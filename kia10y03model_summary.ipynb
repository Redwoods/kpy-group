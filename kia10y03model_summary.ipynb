{
  "nbformat": 4,
  "nbformat_minor": 0,
  "metadata": {
    "colab": {
      "name": "kia10y03model_summary.ipynb",
      "provenance": [],
      "collapsed_sections": []
    },
    "kernelspec": {
      "name": "python3",
      "display_name": "Python 3"
    },
    "language_info": {
      "name": "python"
    }
  },
  "cells": [
    {
      "cell_type": "markdown",
      "metadata": {
        "id": "z3cpxclNv5QE"
      },
      "source": [
        "# Model vs. target\n",
        "- 'C1O1', 'C2O1', 'O2C1', 'C2C1', 'C2O2'\n"
      ]
    },
    {
      "cell_type": "code",
      "metadata": {
        "id": "MVetuBhkIIx3"
      },
      "source": [
        "import numpy as np\n",
        "import pandas as pd\n",
        "import matplotlib.pyplot as plt"
      ],
      "execution_count": null,
      "outputs": []
    },
    {
      "cell_type": "code",
      "metadata": {
        "id": "_Bd_BqC8nNLN"
      },
      "source": [
        "targets = ['C1O1', 'C2O1', 'O2C1', 'C2C1', 'C2O2']\n",
        "model_ACC = ['nb','qda','nb','ada','ridge']\n",
        "acc = [.5361,.5426,.5637,.5367,.5315]\n",
        "model_AUC =['nb','qda','nb','lda','lightgbm']\n",
        "auc = [.5264,.5213,.5855,.5367,.5268]"
      ],
      "execution_count": null,
      "outputs": []
    },
    {
      "cell_type": "code",
      "metadata": {
        "colab": {
          "base_uri": "https://localhost:8080/"
        },
        "id": "mVwFXLyUx1Cv",
        "outputId": "b027d1bf-1489-4702-b8ca-821cf5740330"
      },
      "source": [
        "# zippedList =  list(zip(listOfNames, listOfAge, listOfCity))\n",
        "zippedList = list(zip(model_ACC,acc,model_AUC,auc))\n",
        "zippedList"
      ],
      "execution_count": null,
      "outputs": [
        {
          "output_type": "execute_result",
          "data": {
            "text/plain": [
              "[('nb', 0.5361, 'nb', 0.5264),\n",
              " ('qda', 0.5426, 'qda', 0.5213),\n",
              " ('nb', 0.5637, 'nb', 0.5855),\n",
              " ('ada', 0.5367, 'lda', 0.5367),\n",
              " ('ridge', 0.5315, 'lightgbm', 0.5268)]"
            ]
          },
          "metadata": {
            "tags": []
          },
          "execution_count": 3
        }
      ]
    },
    {
      "cell_type": "code",
      "metadata": {
        "id": "_aSL8jJO0RgX"
      },
      "source": [
        "zippedList_arr = np.array(zippedList).T"
      ],
      "execution_count": null,
      "outputs": []
    },
    {
      "cell_type": "code",
      "metadata": {
        "id": "71Au-U1lzZgM"
      },
      "source": [
        "ml_summary = pd.DataFrame(zippedList_arr, columns = targets, index=['model-ACC', 'acc', 'model-AUC','auc'])"
      ],
      "execution_count": null,
      "outputs": []
    },
    {
      "cell_type": "code",
      "metadata": {
        "colab": {
          "base_uri": "https://localhost:8080/",
          "height": 174
        },
        "id": "i9UBgX79zF11",
        "outputId": "f4f17e7b-cea5-48ed-bdca-fba5e3fafc6d"
      },
      "source": [
        "ml_summary"
      ],
      "execution_count": null,
      "outputs": [
        {
          "output_type": "execute_result",
          "data": {
            "text/html": [
              "<div>\n",
              "<style scoped>\n",
              "    .dataframe tbody tr th:only-of-type {\n",
              "        vertical-align: middle;\n",
              "    }\n",
              "\n",
              "    .dataframe tbody tr th {\n",
              "        vertical-align: top;\n",
              "    }\n",
              "\n",
              "    .dataframe thead th {\n",
              "        text-align: right;\n",
              "    }\n",
              "</style>\n",
              "<table border=\"1\" class=\"dataframe\">\n",
              "  <thead>\n",
              "    <tr style=\"text-align: right;\">\n",
              "      <th></th>\n",
              "      <th>C1O1</th>\n",
              "      <th>C2O1</th>\n",
              "      <th>O2C1</th>\n",
              "      <th>C2C1</th>\n",
              "      <th>C2O2</th>\n",
              "    </tr>\n",
              "  </thead>\n",
              "  <tbody>\n",
              "    <tr>\n",
              "      <th>model-ACC</th>\n",
              "      <td>nb</td>\n",
              "      <td>qda</td>\n",
              "      <td>nb</td>\n",
              "      <td>ada</td>\n",
              "      <td>ridge</td>\n",
              "    </tr>\n",
              "    <tr>\n",
              "      <th>acc</th>\n",
              "      <td>0.5361</td>\n",
              "      <td>0.5426</td>\n",
              "      <td>0.5637</td>\n",
              "      <td>0.5367</td>\n",
              "      <td>0.5315</td>\n",
              "    </tr>\n",
              "    <tr>\n",
              "      <th>model-AUC</th>\n",
              "      <td>nb</td>\n",
              "      <td>qda</td>\n",
              "      <td>nb</td>\n",
              "      <td>lda</td>\n",
              "      <td>lightgbm</td>\n",
              "    </tr>\n",
              "    <tr>\n",
              "      <th>auc</th>\n",
              "      <td>0.5264</td>\n",
              "      <td>0.5213</td>\n",
              "      <td>0.5855</td>\n",
              "      <td>0.5367</td>\n",
              "      <td>0.5268</td>\n",
              "    </tr>\n",
              "  </tbody>\n",
              "</table>\n",
              "</div>"
            ],
            "text/plain": [
              "             C1O1    C2O1    O2C1    C2C1      C2O2\n",
              "model-ACC      nb     qda      nb     ada     ridge\n",
              "acc        0.5361  0.5426  0.5637  0.5367    0.5315\n",
              "model-AUC      nb     qda      nb     lda  lightgbm\n",
              "auc        0.5264  0.5213  0.5855  0.5367    0.5268"
            ]
          },
          "metadata": {
            "tags": []
          },
          "execution_count": 6
        }
      ]
    },
    {
      "cell_type": "code",
      "metadata": {
        "colab": {
          "base_uri": "https://localhost:8080/",
          "height": 81
        },
        "id": "OYCELvVp4ahx",
        "outputId": "077076de-d450-4f92-b8d9-67fdabcf36c6"
      },
      "source": [
        "ml_summary[1:2]"
      ],
      "execution_count": null,
      "outputs": [
        {
          "output_type": "execute_result",
          "data": {
            "text/html": [
              "<div>\n",
              "<style scoped>\n",
              "    .dataframe tbody tr th:only-of-type {\n",
              "        vertical-align: middle;\n",
              "    }\n",
              "\n",
              "    .dataframe tbody tr th {\n",
              "        vertical-align: top;\n",
              "    }\n",
              "\n",
              "    .dataframe thead th {\n",
              "        text-align: right;\n",
              "    }\n",
              "</style>\n",
              "<table border=\"1\" class=\"dataframe\">\n",
              "  <thead>\n",
              "    <tr style=\"text-align: right;\">\n",
              "      <th></th>\n",
              "      <th>C1O1</th>\n",
              "      <th>C2O1</th>\n",
              "      <th>O2C1</th>\n",
              "      <th>C2C1</th>\n",
              "      <th>C2O2</th>\n",
              "    </tr>\n",
              "  </thead>\n",
              "  <tbody>\n",
              "    <tr>\n",
              "      <th>acc</th>\n",
              "      <td>0.5361</td>\n",
              "      <td>0.5426</td>\n",
              "      <td>0.5637</td>\n",
              "      <td>0.5367</td>\n",
              "      <td>0.5315</td>\n",
              "    </tr>\n",
              "  </tbody>\n",
              "</table>\n",
              "</div>"
            ],
            "text/plain": [
              "       C1O1    C2O1    O2C1    C2C1    C2O2\n",
              "acc  0.5361  0.5426  0.5637  0.5367  0.5315"
            ]
          },
          "metadata": {
            "tags": []
          },
          "execution_count": 7
        }
      ]
    },
    {
      "cell_type": "code",
      "metadata": {
        "colab": {
          "base_uri": "https://localhost:8080/",
          "height": 81
        },
        "id": "Ct28P4OF8fAM",
        "outputId": "21a113d2-50af-421a-9a9e-d2a2ff4c8a69"
      },
      "source": [
        "ml_summary[-1:]"
      ],
      "execution_count": null,
      "outputs": [
        {
          "output_type": "execute_result",
          "data": {
            "text/html": [
              "<div>\n",
              "<style scoped>\n",
              "    .dataframe tbody tr th:only-of-type {\n",
              "        vertical-align: middle;\n",
              "    }\n",
              "\n",
              "    .dataframe tbody tr th {\n",
              "        vertical-align: top;\n",
              "    }\n",
              "\n",
              "    .dataframe thead th {\n",
              "        text-align: right;\n",
              "    }\n",
              "</style>\n",
              "<table border=\"1\" class=\"dataframe\">\n",
              "  <thead>\n",
              "    <tr style=\"text-align: right;\">\n",
              "      <th></th>\n",
              "      <th>C1O1</th>\n",
              "      <th>C2O1</th>\n",
              "      <th>O2C1</th>\n",
              "      <th>C2C1</th>\n",
              "      <th>C2O2</th>\n",
              "    </tr>\n",
              "  </thead>\n",
              "  <tbody>\n",
              "    <tr>\n",
              "      <th>auc</th>\n",
              "      <td>0.5264</td>\n",
              "      <td>0.5213</td>\n",
              "      <td>0.5855</td>\n",
              "      <td>0.5367</td>\n",
              "      <td>0.5268</td>\n",
              "    </tr>\n",
              "  </tbody>\n",
              "</table>\n",
              "</div>"
            ],
            "text/plain": [
              "       C1O1    C2O1    O2C1    C2C1    C2O2\n",
              "auc  0.5264  0.5213  0.5855  0.5367  0.5268"
            ]
          },
          "metadata": {
            "tags": []
          },
          "execution_count": 8
        }
      ]
    },
    {
      "cell_type": "code",
      "metadata": {
        "id": "8iJOEJa6-oe5"
      },
      "source": [
        "# acc = list(map(float,list(ml_summary[1:2].values[0])))\n",
        "# auc = list(map(float,list(ml_summary[-1:].values[0])))\n",
        "# acc,auc"
      ],
      "execution_count": null,
      "outputs": []
    },
    {
      "cell_type": "code",
      "metadata": {
        "colab": {
          "base_uri": "https://localhost:8080/",
          "height": 281
        },
        "id": "Eno6Ipav_bA1",
        "outputId": "08b8bb39-20bb-41ad-c45d-080309603a44"
      },
      "source": [
        "index = np.arange(len(acc))\n",
        "df_acc = pd.DataFrame(np.array(acc))\n",
        "df_acc.plot.bar(color=[plt.cm.Paired(np.arange(len(index)))])\n",
        "plt.xticks(index,ml_summary.columns, rotation=0)\n",
        "plt.title(\"ACC\")\n",
        "plt.legend(['acc'], bbox_to_anchor=(1.2, 1))\n",
        "plt.show()"
      ],
      "execution_count": null,
      "outputs": [
        {
          "output_type": "display_data",
          "data": {
            "image/png": "[encoded data removed]",
            "text/plain": [
              "<Figure size 432x288 with 1 Axes>"
            ]
          },
          "metadata": {
            "tags": [],
            "needs_background": "light"
          }
        }
      ]
    },
    {
      "cell_type": "code",
      "metadata": {
        "colab": {
          "base_uri": "https://localhost:8080/",
          "height": 281
        },
        "id": "AHga-r0pB_L2",
        "outputId": "738649b0-2382-403d-b169-e7526b573146"
      },
      "source": [
        "index = np.arange(len(auc))\n",
        "df_auc = pd.DataFrame(np.array(auc))\n",
        "df_auc.plot.bar(color=[plt.cm.Paired(np.arange(len(index)))])\n",
        "plt.xticks(index,ml_summary.columns, rotation=0)\n",
        "plt.title(\"AUC\")\n",
        "plt.legend(['auc'], bbox_to_anchor=(1.2, 1))\n",
        "plt.show()"
      ],
      "execution_count": null,
      "outputs": [
        {
          "output_type": "display_data",
          "data": {
            "image/png": "[encoded data removed]",
            "text/plain": [
              "<Figure size 432x288 with 1 Axes>"
            ]
          },
          "metadata": {
            "tags": [],
            "needs_background": "light"
          }
        }
      ]
    },
    {
      "cell_type": "code",
      "metadata": {
        "colab": {
          "base_uri": "https://localhost:8080/"
        },
        "id": "neUJWeyJwuaH",
        "outputId": "bcccd041-5923-4503-d7ef-3b4bacfdfe6b"
      },
      "source": [
        "np.array([acc,auc]).T"
      ],
      "execution_count": null,
      "outputs": [
        {
          "output_type": "execute_result",
          "data": {
            "text/plain": [
              "array([[0.5361, 0.5264],\n",
              "       [0.5426, 0.5213],\n",
              "       [0.5637, 0.5855],\n",
              "       [0.5367, 0.5367],\n",
              "       [0.5315, 0.5268]])"
            ]
          },
          "metadata": {
            "tags": []
          },
          "execution_count": 12
        }
      ]
    },
    {
      "cell_type": "code",
      "metadata": {
        "colab": {
          "base_uri": "https://localhost:8080/",
          "height": 206
        },
        "id": "1aAFnqIgCitN",
        "outputId": "c4fda763-8bd8-4e0b-a0c7-8b698de6684c"
      },
      "source": [
        "ml_reaults = pd.DataFrame(np.array([acc,auc]).T,columns=['ACC','AUC'])\n",
        "ml_reaults"
      ],
      "execution_count": null,
      "outputs": [
        {
          "output_type": "execute_result",
          "data": {
            "text/html": [
              "<div>\n",
              "<style scoped>\n",
              "    .dataframe tbody tr th:only-of-type {\n",
              "        vertical-align: middle;\n",
              "    }\n",
              "\n",
              "    .dataframe tbody tr th {\n",
              "        vertical-align: top;\n",
              "    }\n",
              "\n",
              "    .dataframe thead th {\n",
              "        text-align: right;\n",
              "    }\n",
              "</style>\n",
              "<table border=\"1\" class=\"dataframe\">\n",
              "  <thead>\n",
              "    <tr style=\"text-align: right;\">\n",
              "      <th></th>\n",
              "      <th>ACC</th>\n",
              "      <th>AUC</th>\n",
              "    </tr>\n",
              "  </thead>\n",
              "  <tbody>\n",
              "    <tr>\n",
              "      <th>0</th>\n",
              "      <td>0.5361</td>\n",
              "      <td>0.5264</td>\n",
              "    </tr>\n",
              "    <tr>\n",
              "      <th>1</th>\n",
              "      <td>0.5426</td>\n",
              "      <td>0.5213</td>\n",
              "    </tr>\n",
              "    <tr>\n",
              "      <th>2</th>\n",
              "      <td>0.5637</td>\n",
              "      <td>0.5855</td>\n",
              "    </tr>\n",
              "    <tr>\n",
              "      <th>3</th>\n",
              "      <td>0.5367</td>\n",
              "      <td>0.5367</td>\n",
              "    </tr>\n",
              "    <tr>\n",
              "      <th>4</th>\n",
              "      <td>0.5315</td>\n",
              "      <td>0.5268</td>\n",
              "    </tr>\n",
              "  </tbody>\n",
              "</table>\n",
              "</div>"
            ],
            "text/plain": [
              "      ACC     AUC\n",
              "0  0.5361  0.5264\n",
              "1  0.5426  0.5213\n",
              "2  0.5637  0.5855\n",
              "3  0.5367  0.5367\n",
              "4  0.5315  0.5268"
            ]
          },
          "metadata": {
            "tags": []
          },
          "execution_count": 14
        }
      ]
    },
    {
      "cell_type": "code",
      "metadata": {
        "id": "QfvtkQPWD99C",
        "colab": {
          "base_uri": "https://localhost:8080/",
          "height": 281
        },
        "outputId": "69ef2b88-a68c-414e-ec09-5ad2267f5041"
      },
      "source": [
        "index = np.arange(len(auc))\n",
        "ml_reaults.plot.bar() #color=[plt.cm.Paired(np.arange(len(index)))])\n",
        "plt.xticks(index,ml_summary.columns, rotation=0)\n",
        "plt.title(\"ACC vs. AUC\")\n",
        "plt.legend(['ACC','AUC'], bbox_to_anchor=(1.2, 1))\n",
        "plt.show()"
      ],
      "execution_count": null,
      "outputs": [
        {
          "output_type": "display_data",
          "data": {
            "image/png": "[encoded data removed]",
            "text/plain": [
              "<Figure size 432x288 with 1 Axes>"
            ]
          },
          "metadata": {
            "tags": [],
            "needs_background": "light"
          }
        }
      ]
    },
    {
      "cell_type": "code",
      "metadata": {
        "id": "csFgup4Aw-lP"
      },
      "source": [
        ""
      ],
      "execution_count": null,
      "outputs": []
    }
  ]
}