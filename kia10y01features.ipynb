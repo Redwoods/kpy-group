{
  "nbformat": 4,
  "nbformat_minor": 0,
  "metadata": {
    "colab": {
      "name": "kia10y01features.ipynb",
      "provenance": [],
      "collapsed_sections": []
    },
    "interpreter": {
      "hash": "2cdcb479d395bf67d7f363259ded2b4428dad1aeea32d3877e4a2008a4bb403b"
    },
    "kernelspec": {
      "display_name": "Python 3.8.5 64-bit ('tf2': conda)",
      "name": "python3"
    },
    "language_info": {
      "name": "python",
      "version": ""
    }
  },
  "cells": [
    {
      "cell_type": "markdown",
      "metadata": {
        "id": "OKeC1E_FHt1a"
      },
      "source": [
        ""
      ]
    },
    {
      "cell_type": "markdown",
      "metadata": {
        "id": "q8j56ZzTHuDg"
      },
      "source": [
        "# KIA 10 Y\n",
        "- period\n",
        "    - 2009-03-23 ~ 2018-05-30\n",
        "- features\n",
        "    - ['k', 'fitN', 'a0', 'a1', 'b0', 'tau']"
      ]
    },
    {
      "cell_type": "markdown",
      "metadata": {
        "id": "ZGODxgc_QLYy"
      },
      "source": [
        "## Load data"
      ]
    },
    {
      "cell_type": "code",
      "metadata": {
        "id": "MVetuBhkIIx3"
      },
      "source": [
        "import numpy as np\n",
        "import pandas as pd\n",
        "import matplotlib.pyplot as plt\n"
      ],
      "execution_count": 58,
      "outputs": []
    },
    {
      "cell_type": "code",
      "metadata": {
        "colab": {
          "base_uri": "https://localhost:8080/"
        },
        "id": "OR53pbeiW2VS",
        "outputId": "a12315af-f628-47b3-c120-77d5a955ae6f"
      },
      "source": [
        "!pip install finance-datareader\n",
        "import FinanceDataReader as fdr"
      ],
      "execution_count": 59,
      "outputs": [
        {
          "output_type": "stream",
          "text": [
            "Requirement already satisfied: finance-datareader in /usr/local/lib/python3.7/dist-packages (0.9.31)\n",
            "Requirement already satisfied: requests>=2.3.0 in /usr/local/lib/python3.7/dist-packages (from finance-datareader) (2.23.0)\n",
            "Requirement already satisfied: requests-file in /usr/local/lib/python3.7/dist-packages (from finance-datareader) (1.5.1)\n",
            "Requirement already satisfied: pandas>=0.19.2 in /usr/local/lib/python3.7/dist-packages (from finance-datareader) (1.1.5)\n",
            "Requirement already satisfied: tqdm in /usr/local/lib/python3.7/dist-packages (from finance-datareader) (4.41.1)\n",
            "Requirement already satisfied: lxml in /usr/local/lib/python3.7/dist-packages (from finance-datareader) (4.2.6)\n",
            "Requirement already satisfied: urllib3!=1.25.0,!=1.25.1,<1.26,>=1.21.1 in /usr/local/lib/python3.7/dist-packages (from requests>=2.3.0->finance-datareader) (1.24.3)\n",
            "Requirement already satisfied: certifi>=2017.4.17 in /usr/local/lib/python3.7/dist-packages (from requests>=2.3.0->finance-datareader) (2021.5.30)\n",
            "Requirement already satisfied: idna<3,>=2.5 in /usr/local/lib/python3.7/dist-packages (from requests>=2.3.0->finance-datareader) (2.10)\n",
            "Requirement already satisfied: chardet<4,>=3.0.2 in /usr/local/lib/python3.7/dist-packages (from requests>=2.3.0->finance-datareader) (3.0.4)\n",
            "Requirement already satisfied: six in /usr/local/lib/python3.7/dist-packages (from requests-file->finance-datareader) (1.15.0)\n",
            "Requirement already satisfied: pytz>=2017.2 in /usr/local/lib/python3.7/dist-packages (from pandas>=0.19.2->finance-datareader) (2018.9)\n",
            "Requirement already satisfied: numpy>=1.15.4 in /usr/local/lib/python3.7/dist-packages (from pandas>=0.19.2->finance-datareader) (1.19.5)\n",
            "Requirement already satisfied: python-dateutil>=2.7.3 in /usr/local/lib/python3.7/dist-packages (from pandas>=0.19.2->finance-datareader) (2.8.1)\n"
          ],
          "name": "stdout"
        }
      ]
    },
    {
      "cell_type": "code",
      "metadata": {
        "id": "K8d3w7mkPpFZ"
      },
      "source": [
        "def strToDate(tt):\n",
        "    return pd.to_datetime(tt, yearfirst=True)\n",
        "\n",
        "def strToTimeDelta(tt):\n",
        "    return pd.Timedelta(float(tt), unit='S')"
      ],
      "execution_count": 60,
      "outputs": []
    },
    {
      "cell_type": "code",
      "metadata": {
        "id": "E41i55e3HhFU"
      },
      "source": [
        "# read features from text file\n",
        "# 날짜    k    fitting수    <a0>    <a1>    <b0>    <τ>\n",
        "filename = 'action(1+1)Param_04'\n",
        "labels = ['date','k','fitN','a0','a1','b0','tau']\n",
        "df = pd.read_csv(filename, sep='\\t', \n",
        "                 header=None,\n",
        "                 converters={0: strToDate},\n",
        "                 names = labels) #, lineterminator='\\r\\n')"
      ],
      "execution_count": 61,
      "outputs": []
    },
    {
      "cell_type": "code",
      "metadata": {
        "colab": {
          "base_uri": "https://localhost:8080/"
        },
        "id": "azgxDhktIql6",
        "outputId": "5550b0b4-31c3-49d0-f3b6-e3dd4668a23b"
      },
      "source": [
        "df.shape # 2276 market-open days for 10 years"
      ],
      "execution_count": 62,
      "outputs": [
        {
          "output_type": "execute_result",
          "data": {
            "text/plain": [
              "(22760, 7)"
            ]
          },
          "metadata": {
            "tags": []
          },
          "execution_count": 62
        }
      ]
    },
    {
      "cell_type": "code",
      "metadata": {
        "colab": {
          "base_uri": "https://localhost:8080/",
          "height": 362
        },
        "id": "D4D2sEcMI0C4",
        "outputId": "77f7f773-c385-4600-d419-28435c40b191"
      },
      "source": [
        "df.head(10)"
      ],
      "execution_count": 63,
      "outputs": [
        {
          "output_type": "execute_result",
          "data": {
            "text/html": [
              "<div>\n",
              "<style scoped>\n",
              "    .dataframe tbody tr th:only-of-type {\n",
              "        vertical-align: middle;\n",
              "    }\n",
              "\n",
              "    .dataframe tbody tr th {\n",
              "        vertical-align: top;\n",
              "    }\n",
              "\n",
              "    .dataframe thead th {\n",
              "        text-align: right;\n",
              "    }\n",
              "</style>\n",
              "<table border=\"1\" class=\"dataframe\">\n",
              "  <thead>\n",
              "    <tr style=\"text-align: right;\">\n",
              "      <th></th>\n",
              "      <th>date</th>\n",
              "      <th>k</th>\n",
              "      <th>fitN</th>\n",
              "      <th>a0</th>\n",
              "      <th>a1</th>\n",
              "      <th>b0</th>\n",
              "      <th>tau</th>\n",
              "    </tr>\n",
              "  </thead>\n",
              "  <tbody>\n",
              "    <tr>\n",
              "      <th>0</th>\n",
              "      <td>2009-03-23</td>\n",
              "      <td>1</td>\n",
              "      <td>37</td>\n",
              "      <td>-2.727038</td>\n",
              "      <td>0.001550</td>\n",
              "      <td>2.984912</td>\n",
              "      <td>1461.122</td>\n",
              "    </tr>\n",
              "    <tr>\n",
              "      <th>1</th>\n",
              "      <td>2009-03-23</td>\n",
              "      <td>2</td>\n",
              "      <td>38</td>\n",
              "      <td>-3.703672</td>\n",
              "      <td>0.001828</td>\n",
              "      <td>3.313493</td>\n",
              "      <td>1499.507</td>\n",
              "    </tr>\n",
              "    <tr>\n",
              "      <th>2</th>\n",
              "      <td>2009-03-23</td>\n",
              "      <td>3</td>\n",
              "      <td>28</td>\n",
              "      <td>-3.933671</td>\n",
              "      <td>0.002574</td>\n",
              "      <td>4.407811</td>\n",
              "      <td>1292.837</td>\n",
              "    </tr>\n",
              "    <tr>\n",
              "      <th>3</th>\n",
              "      <td>2009-03-23</td>\n",
              "      <td>4</td>\n",
              "      <td>13</td>\n",
              "      <td>-4.360880</td>\n",
              "      <td>0.002469</td>\n",
              "      <td>4.251816</td>\n",
              "      <td>1329.968</td>\n",
              "    </tr>\n",
              "    <tr>\n",
              "      <th>4</th>\n",
              "      <td>2009-03-23</td>\n",
              "      <td>5</td>\n",
              "      <td>30</td>\n",
              "      <td>-3.669309</td>\n",
              "      <td>0.001936</td>\n",
              "      <td>3.896841</td>\n",
              "      <td>1547.975</td>\n",
              "    </tr>\n",
              "    <tr>\n",
              "      <th>5</th>\n",
              "      <td>2009-03-23</td>\n",
              "      <td>6</td>\n",
              "      <td>18</td>\n",
              "      <td>-3.317302</td>\n",
              "      <td>0.001605</td>\n",
              "      <td>3.441775</td>\n",
              "      <td>1681.609</td>\n",
              "    </tr>\n",
              "    <tr>\n",
              "      <th>6</th>\n",
              "      <td>2009-03-23</td>\n",
              "      <td>7</td>\n",
              "      <td>25</td>\n",
              "      <td>-3.789300</td>\n",
              "      <td>0.001868</td>\n",
              "      <td>3.772554</td>\n",
              "      <td>1597.517</td>\n",
              "    </tr>\n",
              "    <tr>\n",
              "      <th>7</th>\n",
              "      <td>2009-03-23</td>\n",
              "      <td>8</td>\n",
              "      <td>27</td>\n",
              "      <td>-2.920232</td>\n",
              "      <td>0.001748</td>\n",
              "      <td>3.582601</td>\n",
              "      <td>1526.722</td>\n",
              "    </tr>\n",
              "    <tr>\n",
              "      <th>8</th>\n",
              "      <td>2009-03-23</td>\n",
              "      <td>9</td>\n",
              "      <td>24</td>\n",
              "      <td>-2.455292</td>\n",
              "      <td>0.001631</td>\n",
              "      <td>3.674260</td>\n",
              "      <td>1628.337</td>\n",
              "    </tr>\n",
              "    <tr>\n",
              "      <th>9</th>\n",
              "      <td>2009-03-23</td>\n",
              "      <td>10</td>\n",
              "      <td>27</td>\n",
              "      <td>-2.013126</td>\n",
              "      <td>0.001319</td>\n",
              "      <td>3.246674</td>\n",
              "      <td>1772.121</td>\n",
              "    </tr>\n",
              "  </tbody>\n",
              "</table>\n",
              "</div>"
            ],
            "text/plain": [
              "        date   k  fitN        a0        a1        b0       tau\n",
              "0 2009-03-23   1    37 -2.727038  0.001550  2.984912  1461.122\n",
              "1 2009-03-23   2    38 -3.703672  0.001828  3.313493  1499.507\n",
              "2 2009-03-23   3    28 -3.933671  0.002574  4.407811  1292.837\n",
              "3 2009-03-23   4    13 -4.360880  0.002469  4.251816  1329.968\n",
              "4 2009-03-23   5    30 -3.669309  0.001936  3.896841  1547.975\n",
              "5 2009-03-23   6    18 -3.317302  0.001605  3.441775  1681.609\n",
              "6 2009-03-23   7    25 -3.789300  0.001868  3.772554  1597.517\n",
              "7 2009-03-23   8    27 -2.920232  0.001748  3.582601  1526.722\n",
              "8 2009-03-23   9    24 -2.455292  0.001631  3.674260  1628.337\n",
              "9 2009-03-23  10    27 -2.013126  0.001319  3.246674  1772.121"
            ]
          },
          "metadata": {
            "tags": []
          },
          "execution_count": 63
        }
      ]
    },
    {
      "cell_type": "code",
      "metadata": {
        "colab": {
          "base_uri": "https://localhost:8080/",
          "height": 362
        },
        "id": "Q9y7S373I2JQ",
        "outputId": "f93d11df-f36c-4342-f528-7ad5cca73869"
      },
      "source": [
        "df.tail(10)"
      ],
      "execution_count": 64,
      "outputs": [
        {
          "output_type": "execute_result",
          "data": {
            "text/html": [
              "<div>\n",
              "<style scoped>\n",
              "    .dataframe tbody tr th:only-of-type {\n",
              "        vertical-align: middle;\n",
              "    }\n",
              "\n",
              "    .dataframe tbody tr th {\n",
              "        vertical-align: top;\n",
              "    }\n",
              "\n",
              "    .dataframe thead th {\n",
              "        text-align: right;\n",
              "    }\n",
              "</style>\n",
              "<table border=\"1\" class=\"dataframe\">\n",
              "  <thead>\n",
              "    <tr style=\"text-align: right;\">\n",
              "      <th></th>\n",
              "      <th>date</th>\n",
              "      <th>k</th>\n",
              "      <th>fitN</th>\n",
              "      <th>a0</th>\n",
              "      <th>a1</th>\n",
              "      <th>b0</th>\n",
              "      <th>tau</th>\n",
              "    </tr>\n",
              "  </thead>\n",
              "  <tbody>\n",
              "    <tr>\n",
              "      <th>22750</th>\n",
              "      <td>2018-05-30</td>\n",
              "      <td>1</td>\n",
              "      <td>41</td>\n",
              "      <td>-0.909242</td>\n",
              "      <td>0.000047</td>\n",
              "      <td>1.630237</td>\n",
              "      <td>26317.73</td>\n",
              "    </tr>\n",
              "    <tr>\n",
              "      <th>22751</th>\n",
              "      <td>2018-05-30</td>\n",
              "      <td>2</td>\n",
              "      <td>37</td>\n",
              "      <td>-0.717859</td>\n",
              "      <td>0.000038</td>\n",
              "      <td>1.179362</td>\n",
              "      <td>24196.48</td>\n",
              "    </tr>\n",
              "    <tr>\n",
              "      <th>22752</th>\n",
              "      <td>2018-05-30</td>\n",
              "      <td>3</td>\n",
              "      <td>40</td>\n",
              "      <td>-0.663725</td>\n",
              "      <td>0.000034</td>\n",
              "      <td>1.184611</td>\n",
              "      <td>27001.12</td>\n",
              "    </tr>\n",
              "    <tr>\n",
              "      <th>22753</th>\n",
              "      <td>2018-05-30</td>\n",
              "      <td>4</td>\n",
              "      <td>34</td>\n",
              "      <td>-0.557721</td>\n",
              "      <td>0.000030</td>\n",
              "      <td>0.946422</td>\n",
              "      <td>24538.75</td>\n",
              "    </tr>\n",
              "    <tr>\n",
              "      <th>22754</th>\n",
              "      <td>2018-05-30</td>\n",
              "      <td>5</td>\n",
              "      <td>33</td>\n",
              "      <td>-0.586936</td>\n",
              "      <td>0.000031</td>\n",
              "      <td>1.003503</td>\n",
              "      <td>25239.68</td>\n",
              "    </tr>\n",
              "    <tr>\n",
              "      <th>22755</th>\n",
              "      <td>2018-05-30</td>\n",
              "      <td>6</td>\n",
              "      <td>38</td>\n",
              "      <td>-0.619580</td>\n",
              "      <td>0.000034</td>\n",
              "      <td>1.086507</td>\n",
              "      <td>24645.88</td>\n",
              "    </tr>\n",
              "    <tr>\n",
              "      <th>22756</th>\n",
              "      <td>2018-05-30</td>\n",
              "      <td>7</td>\n",
              "      <td>38</td>\n",
              "      <td>-0.557049</td>\n",
              "      <td>0.000030</td>\n",
              "      <td>0.952689</td>\n",
              "      <td>24562.41</td>\n",
              "    </tr>\n",
              "    <tr>\n",
              "      <th>22757</th>\n",
              "      <td>2018-05-30</td>\n",
              "      <td>8</td>\n",
              "      <td>39</td>\n",
              "      <td>-0.595521</td>\n",
              "      <td>0.000031</td>\n",
              "      <td>1.025429</td>\n",
              "      <td>24977.92</td>\n",
              "    </tr>\n",
              "    <tr>\n",
              "      <th>22758</th>\n",
              "      <td>2018-05-30</td>\n",
              "      <td>9</td>\n",
              "      <td>40</td>\n",
              "      <td>-0.570060</td>\n",
              "      <td>0.000030</td>\n",
              "      <td>0.986699</td>\n",
              "      <td>25263.94</td>\n",
              "    </tr>\n",
              "    <tr>\n",
              "      <th>22759</th>\n",
              "      <td>2018-05-30</td>\n",
              "      <td>10</td>\n",
              "      <td>24</td>\n",
              "      <td>-0.619659</td>\n",
              "      <td>0.000033</td>\n",
              "      <td>1.065320</td>\n",
              "      <td>24705.70</td>\n",
              "    </tr>\n",
              "  </tbody>\n",
              "</table>\n",
              "</div>"
            ],
            "text/plain": [
              "            date   k  fitN        a0        a1        b0       tau\n",
              "22750 2018-05-30   1    41 -0.909242  0.000047  1.630237  26317.73\n",
              "22751 2018-05-30   2    37 -0.717859  0.000038  1.179362  24196.48\n",
              "22752 2018-05-30   3    40 -0.663725  0.000034  1.184611  27001.12\n",
              "22753 2018-05-30   4    34 -0.557721  0.000030  0.946422  24538.75\n",
              "22754 2018-05-30   5    33 -0.586936  0.000031  1.003503  25239.68\n",
              "22755 2018-05-30   6    38 -0.619580  0.000034  1.086507  24645.88\n",
              "22756 2018-05-30   7    38 -0.557049  0.000030  0.952689  24562.41\n",
              "22757 2018-05-30   8    39 -0.595521  0.000031  1.025429  24977.92\n",
              "22758 2018-05-30   9    40 -0.570060  0.000030  0.986699  25263.94\n",
              "22759 2018-05-30  10    24 -0.619659  0.000033  1.065320  24705.70"
            ]
          },
          "metadata": {
            "tags": []
          },
          "execution_count": 64
        }
      ]
    },
    {
      "cell_type": "code",
      "metadata": {
        "colab": {
          "base_uri": "https://localhost:8080/"
        },
        "id": "uoYAc7iBKfVh",
        "outputId": "ac1e5bd4-40f0-436d-a23b-e4b26a6adad4"
      },
      "source": [
        "df.info()"
      ],
      "execution_count": 65,
      "outputs": [
        {
          "output_type": "stream",
          "text": [
            "<class 'pandas.core.frame.DataFrame'>\n",
            "RangeIndex: 22760 entries, 0 to 22759\n",
            "Data columns (total 7 columns):\n",
            " #   Column  Non-Null Count  Dtype         \n",
            "---  ------  --------------  -----         \n",
            " 0   date    22760 non-null  datetime64[ns]\n",
            " 1   k       22760 non-null  int64         \n",
            " 2   fitN    22760 non-null  int64         \n",
            " 3   a0      22760 non-null  float64       \n",
            " 4   a1      22760 non-null  float64       \n",
            " 5   b0      22760 non-null  float64       \n",
            " 6   tau     22760 non-null  float64       \n",
            "dtypes: datetime64[ns](1), float64(4), int64(2)\n",
            "memory usage: 1.2 MB\n"
          ],
          "name": "stdout"
        }
      ]
    },
    {
      "cell_type": "code",
      "metadata": {
        "colab": {
          "base_uri": "https://localhost:8080/"
        },
        "id": "wLQvKf1xpOAH",
        "outputId": "7ed0e308-a9f0-4f52-acb7-6bbc813c93f2"
      },
      "source": [
        "df['date'][0],df['date'][0].strftime('%Y-%m-%d'),df['date'][-1:]"
      ],
      "execution_count": 66,
      "outputs": [
        {
          "output_type": "execute_result",
          "data": {
            "text/plain": [
              "(Timestamp('2009-03-23 00:00:00'), '2009-03-23', 22759   2018-05-30\n",
              " Name: date, dtype: datetime64[ns])"
            ]
          },
          "metadata": {
            "tags": []
          },
          "execution_count": 66
        }
      ]
    },
    {
      "cell_type": "code",
      "metadata": {
        "id": "zwe2Ut2qK5OJ"
      },
      "source": [
        "# df.to_csv('kia_param04.csv', index=None)"
      ],
      "execution_count": 67,
      "outputs": []
    },
    {
      "cell_type": "markdown",
      "metadata": {
        "id": "C4QbPaw6Jluo"
      },
      "source": [
        "# FDR"
      ]
    },
    {
      "cell_type": "code",
      "metadata": {
        "id": "v-a6qL5qJ-h9"
      },
      "source": [
        "symbol = '000270' # KIA Car\n",
        "sdate = '2009-03-23'\n",
        "edate = '2018-05-30'\n",
        "df_kia = fdr.DataReader(symbol,sdate,edate)\n",
        "# df = df.reset_index()"
      ],
      "execution_count": 68,
      "outputs": []
    },
    {
      "cell_type": "code",
      "metadata": {
        "colab": {
          "base_uri": "https://localhost:8080/"
        },
        "id": "hOnvSmwRK9Cu",
        "outputId": "7e3d1a1d-cadd-4a56-8917-c069a69adf23"
      },
      "source": [
        "df_kia.shape  # 2276 days"
      ],
      "execution_count": 69,
      "outputs": [
        {
          "output_type": "execute_result",
          "data": {
            "text/plain": [
              "(2276, 6)"
            ]
          },
          "metadata": {
            "tags": []
          },
          "execution_count": 69
        }
      ]
    },
    {
      "cell_type": "code",
      "metadata": {
        "colab": {
          "base_uri": "https://localhost:8080/"
        },
        "id": "sT9gj9WLK_YN",
        "outputId": "84295543-6fed-459a-c58a-944e42b460b9"
      },
      "source": [
        "df_kia.info()"
      ],
      "execution_count": 70,
      "outputs": [
        {
          "output_type": "stream",
          "text": [
            "<class 'pandas.core.frame.DataFrame'>\n",
            "DatetimeIndex: 2276 entries, 2009-03-23 to 2018-05-30\n",
            "Data columns (total 6 columns):\n",
            " #   Column  Non-Null Count  Dtype  \n",
            "---  ------  --------------  -----  \n",
            " 0   Open    2276 non-null   int64  \n",
            " 1   High    2276 non-null   int64  \n",
            " 2   Low     2276 non-null   int64  \n",
            " 3   Close   2276 non-null   int64  \n",
            " 4   Volume  2276 non-null   int64  \n",
            " 5   Change  2276 non-null   float64\n",
            "dtypes: float64(1), int64(5)\n",
            "memory usage: 124.5 KB\n"
          ],
          "name": "stdout"
        }
      ]
    },
    {
      "cell_type": "code",
      "metadata": {
        "colab": {
          "base_uri": "https://localhost:8080/",
          "height": 237
        },
        "id": "CvE3jRf4LI0t",
        "outputId": "a8d513ff-2177-458c-c47c-94cd4bd42cb0"
      },
      "source": [
        "df_kia.head()"
      ],
      "execution_count": 71,
      "outputs": [
        {
          "output_type": "execute_result",
          "data": {
            "text/html": [
              "<div>\n",
              "<style scoped>\n",
              "    .dataframe tbody tr th:only-of-type {\n",
              "        vertical-align: middle;\n",
              "    }\n",
              "\n",
              "    .dataframe tbody tr th {\n",
              "        vertical-align: top;\n",
              "    }\n",
              "\n",
              "    .dataframe thead th {\n",
              "        text-align: right;\n",
              "    }\n",
              "</style>\n",
              "<table border=\"1\" class=\"dataframe\">\n",
              "  <thead>\n",
              "    <tr style=\"text-align: right;\">\n",
              "      <th></th>\n",
              "      <th>Open</th>\n",
              "      <th>High</th>\n",
              "      <th>Low</th>\n",
              "      <th>Close</th>\n",
              "      <th>Volume</th>\n",
              "      <th>Change</th>\n",
              "    </tr>\n",
              "    <tr>\n",
              "      <th>Date</th>\n",
              "      <th></th>\n",
              "      <th></th>\n",
              "      <th></th>\n",
              "      <th></th>\n",
              "      <th></th>\n",
              "      <th></th>\n",
              "    </tr>\n",
              "  </thead>\n",
              "  <tbody>\n",
              "    <tr>\n",
              "      <th>2009-03-23</th>\n",
              "      <td>7850</td>\n",
              "      <td>8120</td>\n",
              "      <td>7800</td>\n",
              "      <td>8080</td>\n",
              "      <td>8344058</td>\n",
              "      <td>0.049351</td>\n",
              "    </tr>\n",
              "    <tr>\n",
              "      <th>2009-03-24</th>\n",
              "      <td>8240</td>\n",
              "      <td>8260</td>\n",
              "      <td>8010</td>\n",
              "      <td>8180</td>\n",
              "      <td>6652120</td>\n",
              "      <td>0.012376</td>\n",
              "    </tr>\n",
              "    <tr>\n",
              "      <th>2009-03-25</th>\n",
              "      <td>8120</td>\n",
              "      <td>8180</td>\n",
              "      <td>7970</td>\n",
              "      <td>8100</td>\n",
              "      <td>5107740</td>\n",
              "      <td>-0.009780</td>\n",
              "    </tr>\n",
              "    <tr>\n",
              "      <th>2009-03-26</th>\n",
              "      <td>8170</td>\n",
              "      <td>8480</td>\n",
              "      <td>8110</td>\n",
              "      <td>8420</td>\n",
              "      <td>13682048</td>\n",
              "      <td>0.039506</td>\n",
              "    </tr>\n",
              "    <tr>\n",
              "      <th>2009-03-27</th>\n",
              "      <td>8570</td>\n",
              "      <td>9070</td>\n",
              "      <td>8470</td>\n",
              "      <td>8490</td>\n",
              "      <td>16489312</td>\n",
              "      <td>0.008314</td>\n",
              "    </tr>\n",
              "  </tbody>\n",
              "</table>\n",
              "</div>"
            ],
            "text/plain": [
              "            Open  High   Low  Close    Volume    Change\n",
              "Date                                                   \n",
              "2009-03-23  7850  8120  7800   8080   8344058  0.049351\n",
              "2009-03-24  8240  8260  8010   8180   6652120  0.012376\n",
              "2009-03-25  8120  8180  7970   8100   5107740 -0.009780\n",
              "2009-03-26  8170  8480  8110   8420  13682048  0.039506\n",
              "2009-03-27  8570  9070  8470   8490  16489312  0.008314"
            ]
          },
          "metadata": {
            "tags": []
          },
          "execution_count": 71
        }
      ]
    },
    {
      "cell_type": "code",
      "metadata": {
        "colab": {
          "base_uri": "https://localhost:8080/",
          "height": 237
        },
        "id": "Iu-qbW4wLM3t",
        "outputId": "abdbf447-5d76-445e-d097-39a7584f56ed"
      },
      "source": [
        "df_kia.tail()"
      ],
      "execution_count": 72,
      "outputs": [
        {
          "output_type": "execute_result",
          "data": {
            "text/html": [
              "<div>\n",
              "<style scoped>\n",
              "    .dataframe tbody tr th:only-of-type {\n",
              "        vertical-align: middle;\n",
              "    }\n",
              "\n",
              "    .dataframe tbody tr th {\n",
              "        vertical-align: top;\n",
              "    }\n",
              "\n",
              "    .dataframe thead th {\n",
              "        text-align: right;\n",
              "    }\n",
              "</style>\n",
              "<table border=\"1\" class=\"dataframe\">\n",
              "  <thead>\n",
              "    <tr style=\"text-align: right;\">\n",
              "      <th></th>\n",
              "      <th>Open</th>\n",
              "      <th>High</th>\n",
              "      <th>Low</th>\n",
              "      <th>Close</th>\n",
              "      <th>Volume</th>\n",
              "      <th>Change</th>\n",
              "    </tr>\n",
              "    <tr>\n",
              "      <th>Date</th>\n",
              "      <th></th>\n",
              "      <th></th>\n",
              "      <th></th>\n",
              "      <th></th>\n",
              "      <th></th>\n",
              "      <th></th>\n",
              "    </tr>\n",
              "  </thead>\n",
              "  <tbody>\n",
              "    <tr>\n",
              "      <th>2018-05-24</th>\n",
              "      <td>33450</td>\n",
              "      <td>33450</td>\n",
              "      <td>32100</td>\n",
              "      <td>32700</td>\n",
              "      <td>1750711</td>\n",
              "      <td>-0.028232</td>\n",
              "    </tr>\n",
              "    <tr>\n",
              "      <th>2018-05-25</th>\n",
              "      <td>32550</td>\n",
              "      <td>32750</td>\n",
              "      <td>32000</td>\n",
              "      <td>32250</td>\n",
              "      <td>796582</td>\n",
              "      <td>-0.013761</td>\n",
              "    </tr>\n",
              "    <tr>\n",
              "      <th>2018-05-28</th>\n",
              "      <td>32450</td>\n",
              "      <td>32500</td>\n",
              "      <td>31900</td>\n",
              "      <td>32300</td>\n",
              "      <td>721091</td>\n",
              "      <td>0.001550</td>\n",
              "    </tr>\n",
              "    <tr>\n",
              "      <th>2018-05-29</th>\n",
              "      <td>32250</td>\n",
              "      <td>32400</td>\n",
              "      <td>31600</td>\n",
              "      <td>31650</td>\n",
              "      <td>896720</td>\n",
              "      <td>-0.020124</td>\n",
              "    </tr>\n",
              "    <tr>\n",
              "      <th>2018-05-30</th>\n",
              "      <td>31450</td>\n",
              "      <td>31950</td>\n",
              "      <td>31400</td>\n",
              "      <td>31700</td>\n",
              "      <td>885930</td>\n",
              "      <td>0.001580</td>\n",
              "    </tr>\n",
              "  </tbody>\n",
              "</table>\n",
              "</div>"
            ],
            "text/plain": [
              "             Open   High    Low  Close   Volume    Change\n",
              "Date                                                     \n",
              "2018-05-24  33450  33450  32100  32700  1750711 -0.028232\n",
              "2018-05-25  32550  32750  32000  32250   796582 -0.013761\n",
              "2018-05-28  32450  32500  31900  32300   721091  0.001550\n",
              "2018-05-29  32250  32400  31600  31650   896720 -0.020124\n",
              "2018-05-30  31450  31950  31400  31700   885930  0.001580"
            ]
          },
          "metadata": {
            "tags": []
          },
          "execution_count": 72
        }
      ]
    },
    {
      "cell_type": "markdown",
      "metadata": {
        "id": "VZwd5bBPWPSV"
      },
      "source": [
        "## Graph of tau and KIACar\n",
        "- Compare tau and KIA(close)\n",
        "- Any relationship?"
      ]
    },
    {
      "cell_type": "code",
      "metadata": {
        "colab": {
          "base_uri": "https://localhost:8080/",
          "height": 392
        },
        "id": "7NziDamBWPSV",
        "outputId": "332d7f8a-cad6-4030-ec7b-5acb73d77737"
      },
      "source": [
        "plt.figure(figsize=(12,6))\n",
        "plt.plot(df['date'],df['tau'])\n",
        "plt.plot(df_kia['Close'])\n",
        "plt.legend(['tau', 'KIA'])"
      ],
      "execution_count": 73,
      "outputs": [
        {
          "output_type": "execute_result",
          "data": {
            "text/plain": [
              "<matplotlib.legend.Legend at 0x7f26c92b6910>"
            ]
          },
          "metadata": {
            "tags": []
          },
          "execution_count": 73
        },
        {
          "output_type": "display_data",
          "data": {
            "image/png": "[encoded data removed]",
            "text/plain": [
              "<Figure size 864x432 with 1 Axes>"
            ]
          },
          "metadata": {
            "tags": [],
            "needs_background": "light"
          }
        }
      ]
    },
    {
      "cell_type": "code",
      "metadata": {
        "id": "vaYgOQX-LRJu"
      },
      "source": [
        "df_lastday=df[df['date']=='2018-05-30']"
      ],
      "execution_count": 74,
      "outputs": []
    },
    {
      "cell_type": "code",
      "metadata": {
        "id": "xHPmu5lZclGC",
        "colab": {
          "base_uri": "https://localhost:8080/",
          "height": 362
        },
        "outputId": "cd5c993b-4c6c-42c0-85f0-e95875a3bb0b"
      },
      "source": [
        "df_lastday"
      ],
      "execution_count": 75,
      "outputs": [
        {
          "output_type": "execute_result",
          "data": {
            "text/html": [
              "<div>\n",
              "<style scoped>\n",
              "    .dataframe tbody tr th:only-of-type {\n",
              "        vertical-align: middle;\n",
              "    }\n",
              "\n",
              "    .dataframe tbody tr th {\n",
              "        vertical-align: top;\n",
              "    }\n",
              "\n",
              "    .dataframe thead th {\n",
              "        text-align: right;\n",
              "    }\n",
              "</style>\n",
              "<table border=\"1\" class=\"dataframe\">\n",
              "  <thead>\n",
              "    <tr style=\"text-align: right;\">\n",
              "      <th></th>\n",
              "      <th>date</th>\n",
              "      <th>k</th>\n",
              "      <th>fitN</th>\n",
              "      <th>a0</th>\n",
              "      <th>a1</th>\n",
              "      <th>b0</th>\n",
              "      <th>tau</th>\n",
              "    </tr>\n",
              "  </thead>\n",
              "  <tbody>\n",
              "    <tr>\n",
              "      <th>22750</th>\n",
              "      <td>2018-05-30</td>\n",
              "      <td>1</td>\n",
              "      <td>41</td>\n",
              "      <td>-0.909242</td>\n",
              "      <td>0.000047</td>\n",
              "      <td>1.630237</td>\n",
              "      <td>26317.73</td>\n",
              "    </tr>\n",
              "    <tr>\n",
              "      <th>22751</th>\n",
              "      <td>2018-05-30</td>\n",
              "      <td>2</td>\n",
              "      <td>37</td>\n",
              "      <td>-0.717859</td>\n",
              "      <td>0.000038</td>\n",
              "      <td>1.179362</td>\n",
              "      <td>24196.48</td>\n",
              "    </tr>\n",
              "    <tr>\n",
              "      <th>22752</th>\n",
              "      <td>2018-05-30</td>\n",
              "      <td>3</td>\n",
              "      <td>40</td>\n",
              "      <td>-0.663725</td>\n",
              "      <td>0.000034</td>\n",
              "      <td>1.184611</td>\n",
              "      <td>27001.12</td>\n",
              "    </tr>\n",
              "    <tr>\n",
              "      <th>22753</th>\n",
              "      <td>2018-05-30</td>\n",
              "      <td>4</td>\n",
              "      <td>34</td>\n",
              "      <td>-0.557721</td>\n",
              "      <td>0.000030</td>\n",
              "      <td>0.946422</td>\n",
              "      <td>24538.75</td>\n",
              "    </tr>\n",
              "    <tr>\n",
              "      <th>22754</th>\n",
              "      <td>2018-05-30</td>\n",
              "      <td>5</td>\n",
              "      <td>33</td>\n",
              "      <td>-0.586936</td>\n",
              "      <td>0.000031</td>\n",
              "      <td>1.003503</td>\n",
              "      <td>25239.68</td>\n",
              "    </tr>\n",
              "    <tr>\n",
              "      <th>22755</th>\n",
              "      <td>2018-05-30</td>\n",
              "      <td>6</td>\n",
              "      <td>38</td>\n",
              "      <td>-0.619580</td>\n",
              "      <td>0.000034</td>\n",
              "      <td>1.086507</td>\n",
              "      <td>24645.88</td>\n",
              "    </tr>\n",
              "    <tr>\n",
              "      <th>22756</th>\n",
              "      <td>2018-05-30</td>\n",
              "      <td>7</td>\n",
              "      <td>38</td>\n",
              "      <td>-0.557049</td>\n",
              "      <td>0.000030</td>\n",
              "      <td>0.952689</td>\n",
              "      <td>24562.41</td>\n",
              "    </tr>\n",
              "    <tr>\n",
              "      <th>22757</th>\n",
              "      <td>2018-05-30</td>\n",
              "      <td>8</td>\n",
              "      <td>39</td>\n",
              "      <td>-0.595521</td>\n",
              "      <td>0.000031</td>\n",
              "      <td>1.025429</td>\n",
              "      <td>24977.92</td>\n",
              "    </tr>\n",
              "    <tr>\n",
              "      <th>22758</th>\n",
              "      <td>2018-05-30</td>\n",
              "      <td>9</td>\n",
              "      <td>40</td>\n",
              "      <td>-0.570060</td>\n",
              "      <td>0.000030</td>\n",
              "      <td>0.986699</td>\n",
              "      <td>25263.94</td>\n",
              "    </tr>\n",
              "    <tr>\n",
              "      <th>22759</th>\n",
              "      <td>2018-05-30</td>\n",
              "      <td>10</td>\n",
              "      <td>24</td>\n",
              "      <td>-0.619659</td>\n",
              "      <td>0.000033</td>\n",
              "      <td>1.065320</td>\n",
              "      <td>24705.70</td>\n",
              "    </tr>\n",
              "  </tbody>\n",
              "</table>\n",
              "</div>"
            ],
            "text/plain": [
              "            date   k  fitN        a0        a1        b0       tau\n",
              "22750 2018-05-30   1    41 -0.909242  0.000047  1.630237  26317.73\n",
              "22751 2018-05-30   2    37 -0.717859  0.000038  1.179362  24196.48\n",
              "22752 2018-05-30   3    40 -0.663725  0.000034  1.184611  27001.12\n",
              "22753 2018-05-30   4    34 -0.557721  0.000030  0.946422  24538.75\n",
              "22754 2018-05-30   5    33 -0.586936  0.000031  1.003503  25239.68\n",
              "22755 2018-05-30   6    38 -0.619580  0.000034  1.086507  24645.88\n",
              "22756 2018-05-30   7    38 -0.557049  0.000030  0.952689  24562.41\n",
              "22757 2018-05-30   8    39 -0.595521  0.000031  1.025429  24977.92\n",
              "22758 2018-05-30   9    40 -0.570060  0.000030  0.986699  25263.94\n",
              "22759 2018-05-30  10    24 -0.619659  0.000033  1.065320  24705.70"
            ]
          },
          "metadata": {
            "tags": []
          },
          "execution_count": 75
        }
      ]
    },
    {
      "cell_type": "code",
      "metadata": {
        "colab": {
          "base_uri": "https://localhost:8080/"
        },
        "id": "whmHhb0_c0CS",
        "outputId": "ebeda0dd-8b8c-4907-bc95-264047437b67"
      },
      "source": [
        "df_lastday.shape"
      ],
      "execution_count": 76,
      "outputs": [
        {
          "output_type": "execute_result",
          "data": {
            "text/plain": [
              "(10, 7)"
            ]
          },
          "metadata": {
            "tags": []
          },
          "execution_count": 76
        }
      ]
    },
    {
      "cell_type": "code",
      "metadata": {
        "id": "yC4BzrNic-bj"
      },
      "source": [
        "# features of one day : 40\n",
        "# a0k01 ~ a0k10\n",
        "# a1k01 ~ a1k10\n",
        "# b0k01 ~ b0k10\n",
        "# tau01 ~ tau10\n",
        "# fb01 ~ fn10"
      ],
      "execution_count": 77,
      "outputs": []
    },
    {
      "cell_type": "markdown",
      "metadata": {
        "id": "4MKipTJdeCH9"
      },
      "source": [
        "# features of one day : 10x4 = 40\n",
        "\n",
        "- $a_0 (k)$ : a0k01 ~ a0k10\n",
        "- $a_1 (k)$ : a1k01 ~ a1k10\n",
        "- $b_0 (k)$ : b0k01 ~ b0k10\n",
        "- $\\tau(k)$ : tau01 ~ tau10\n",
        "- $fn(k)$ : fn01 ~ fn10\n",
        "- $ 1 \\le k \\le 10 $"
      ]
    },
    {
      "cell_type": "markdown",
      "metadata": {
        "id": "PGcVSApieOz4"
      },
      "source": [
        "# 40 featues show complex dynamics in a day (today) => predict what?\n",
        "- C1 >< O1 (Close >< Open in today)\n",
        "- C2 >< O1 (Close in the next day >< Open in today)\n",
        "- O2 >< C1 (Open in the next day >< Close in today)\n",
        "- C2 >< C1 (Close in the next day >< Close in today)\n",
        "- C2 >< O2 (Close >< Open in the next day)\n",
        "    - O2 >< O1 (Open in the next day >< Open in today)  (deleted)"
      ]
    },
    {
      "cell_type": "markdown",
      "metadata": {
        "id": "_EQOK1Qm44rA"
      },
      "source": [
        "## Graph of a0,a1,b0,tau along k, $ 1 \\le k \\le 10 $"
      ]
    },
    {
      "cell_type": "code",
      "metadata": {
        "colab": {
          "base_uri": "https://localhost:8080/"
        },
        "id": "5wDMd6qM6XEQ",
        "outputId": "6f3d7c8d-e1c2-4f8c-c1a5-0ecdd493413b"
      },
      "source": [
        "df[df['k']==1]['a0'].shape,df[df['k']==1]['date'].shape"
      ],
      "execution_count": 78,
      "outputs": [
        {
          "output_type": "execute_result",
          "data": {
            "text/plain": [
              "((2276,), (2276,))"
            ]
          },
          "metadata": {
            "tags": []
          },
          "execution_count": 78
        }
      ]
    },
    {
      "cell_type": "markdown",
      "metadata": {
        "id": "eKBHUBSb77e3"
      },
      "source": [
        "### a0(k)"
      ]
    },
    {
      "cell_type": "code",
      "metadata": {
        "colab": {
          "base_uri": "https://localhost:8080/",
          "height": 320
        },
        "id": "0p0lZZh343VT",
        "outputId": "5cb14f77-fd0a-4d96-a027-463c37233bc7"
      },
      "source": [
        "plt.figure(figsize=(12,5))\n",
        "kf=11\n",
        "for i in range(1,kf):\n",
        "    plt.plot(df[df['k']==1]['date'],df[df['k']==i]['a0'])\n",
        "plt.legend(list(range(1,kf)))\n",
        "plt.show()"
      ],
      "execution_count": 79,
      "outputs": [
        {
          "output_type": "display_data",
          "data": {
            "image/png": "[encoded data removed]",
            "text/plain": [
              "<Figure size 864x360 with 1 Axes>"
            ]
          },
          "metadata": {
            "tags": [],
            "needs_background": "light"
          }
        }
      ]
    },
    {
      "cell_type": "code",
      "metadata": {
        "colab": {
          "base_uri": "https://localhost:8080/",
          "height": 320
        },
        "id": "-z2BUPNzwiDk",
        "outputId": "a48e1e84-8e31-4257-fc20-9c2a9d316e70"
      },
      "source": [
        "plt.figure(figsize=(12,5))\n",
        "kf=4\n",
        "for i in range(1,kf):\n",
        "    plt.plot(df[df['k']==1]['date'],df[df['k']==i]['a0'])\n",
        "plt.legend(list(range(1,kf)))\n",
        "plt.show()"
      ],
      "execution_count": 80,
      "outputs": [
        {
          "output_type": "display_data",
          "data": {
            "image/png": "[encoded data removed]",
            "text/plain": [
              "<Figure size 864x360 with 1 Axes>"
            ]
          },
          "metadata": {
            "tags": [],
            "needs_background": "light"
          }
        }
      ]
    },
    {
      "cell_type": "code",
      "metadata": {
        "colab": {
          "base_uri": "https://localhost:8080/"
        },
        "id": "Id6t224rEQcq",
        "outputId": "35da7011-46b7-499e-fdde-57f45c351a66"
      },
      "source": [
        "# check zeros\n",
        "print(df[df['a0']==0].shape)\n",
        "for i in range(1,11):\n",
        "    print(\"k=\", i, \", zeros of tau:\", (df[df['k']==i]['a0']==0).astype(int).sum())\n"
      ],
      "execution_count": 81,
      "outputs": [
        {
          "output_type": "stream",
          "text": [
            "(62, 7)\n",
            "k= 1 , zeros of tau: 25\n",
            "k= 2 , zeros of tau: 7\n",
            "k= 3 , zeros of tau: 4\n",
            "k= 4 , zeros of tau: 9\n",
            "k= 5 , zeros of tau: 1\n",
            "k= 6 , zeros of tau: 1\n",
            "k= 7 , zeros of tau: 4\n",
            "k= 8 , zeros of tau: 4\n",
            "k= 9 , zeros of tau: 4\n",
            "k= 10 , zeros of tau: 3\n"
          ],
          "name": "stdout"
        }
      ]
    },
    {
      "cell_type": "markdown",
      "metadata": {
        "id": "kdSBtOxe794w"
      },
      "source": [
        "### a1(k)"
      ]
    },
    {
      "cell_type": "code",
      "metadata": {
        "colab": {
          "base_uri": "https://localhost:8080/",
          "height": 324
        },
        "id": "iNoXWYov66s8",
        "outputId": "049062b1-95ae-4b66-e5e2-540caff2beba"
      },
      "source": [
        "plt.figure(figsize=(12,5))\n",
        "kf=11\n",
        "for i in range(1,kf):\n",
        "    plt.plot(df[df['k']==1]['date'],df[df['k']==i]['a1'])\n",
        "plt.legend(list(range(1,kf)))\n",
        "plt.show()"
      ],
      "execution_count": 82,
      "outputs": [
        {
          "output_type": "display_data",
          "data": {
            "image/png": "[encoded data removed]",
            "text/plain": [
              "<Figure size 864x360 with 1 Axes>"
            ]
          },
          "metadata": {
            "tags": [],
            "needs_background": "light"
          }
        }
      ]
    },
    {
      "cell_type": "code",
      "metadata": {
        "colab": {
          "base_uri": "https://localhost:8080/",
          "height": 320
        },
        "id": "9Gw3o2TYwnLX",
        "outputId": "3a036a89-6c3b-460d-fbc1-c238ffa10465"
      },
      "source": [
        "plt.figure(figsize=(12,5))\n",
        "kf=3\n",
        "for i in range(1,kf):\n",
        "    plt.plot(df[df['k']==1]['date'],df[df['k']==i]['a1'])\n",
        "plt.legend(list(range(1,kf)))\n",
        "plt.show()"
      ],
      "execution_count": 83,
      "outputs": [
        {
          "output_type": "display_data",
          "data": {
            "image/png": "[encoded data removed]",
            "text/plain": [
              "<Figure size 864x360 with 1 Axes>"
            ]
          },
          "metadata": {
            "tags": [],
            "needs_background": "light"
          }
        }
      ]
    },
    {
      "cell_type": "code",
      "metadata": {
        "colab": {
          "base_uri": "https://localhost:8080/"
        },
        "id": "i79AKyP2FB0y",
        "outputId": "2f714ce4-b5c8-4972-a83b-402fe8599a10"
      },
      "source": [
        "# check zeros\n",
        "df[df['a1']==0].shape\n",
        "for i in range(1,11):\n",
        "    print(\"k=\", i, \", zeros of tau:\", (df[df['k']==i]['a1']==0).astype(int).sum())\n"
      ],
      "execution_count": 84,
      "outputs": [
        {
          "output_type": "stream",
          "text": [
            "k= 1 , zeros of tau: 25\n",
            "k= 2 , zeros of tau: 7\n",
            "k= 3 , zeros of tau: 4\n",
            "k= 4 , zeros of tau: 9\n",
            "k= 5 , zeros of tau: 1\n",
            "k= 6 , zeros of tau: 1\n",
            "k= 7 , zeros of tau: 4\n",
            "k= 8 , zeros of tau: 4\n",
            "k= 9 , zeros of tau: 4\n",
            "k= 10 , zeros of tau: 3\n"
          ],
          "name": "stdout"
        }
      ]
    },
    {
      "cell_type": "markdown",
      "metadata": {
        "id": "-ZWBQy2V8CDf"
      },
      "source": [
        "### b0(k)"
      ]
    },
    {
      "cell_type": "code",
      "metadata": {
        "colab": {
          "base_uri": "https://localhost:8080/",
          "height": 320
        },
        "id": "ZSiXAjLd6_AN",
        "outputId": "14ddcd72-f355-4740-f941-49f3ae409c69"
      },
      "source": [
        "plt.figure(figsize=(12,5))\n",
        "kf=11\n",
        "for i in range(1,kf):\n",
        "    plt.plot(df[df['k']==1]['date'],df[df['k']==i]['b0'])\n",
        "plt.legend(list(range(1,kf)))\n",
        "plt.show()"
      ],
      "execution_count": 85,
      "outputs": [
        {
          "output_type": "display_data",
          "data": {
            "image/png": "[encoded data removed]",
            "text/plain": [
              "<Figure size 864x360 with 1 Axes>"
            ]
          },
          "metadata": {
            "tags": [],
            "needs_background": "light"
          }
        }
      ]
    },
    {
      "cell_type": "code",
      "metadata": {
        "colab": {
          "base_uri": "https://localhost:8080/",
          "height": 320
        },
        "id": "qXiFtq3WsnCf",
        "outputId": "a423e900-8a3b-42e2-bdc6-e5a08df952d6"
      },
      "source": [
        "plt.figure(figsize=(12,5))\n",
        "kf=3\n",
        "for i in range(1,kf):\n",
        "    plt.plot(df[df['k']==1]['date'],df[df['k']==i]['b0'])\n",
        "plt.legend(list(range(1,kf)))\n",
        "plt.show()"
      ],
      "execution_count": 86,
      "outputs": [
        {
          "output_type": "display_data",
          "data": {
            "image/png": "[encoded data removed]",
            "text/plain": [
              "<Figure size 864x360 with 1 Axes>"
            ]
          },
          "metadata": {
            "tags": [],
            "needs_background": "light"
          }
        }
      ]
    },
    {
      "cell_type": "code",
      "metadata": {
        "colab": {
          "base_uri": "https://localhost:8080/"
        },
        "id": "JnylXE_5EhgE",
        "outputId": "66d535a5-54e5-4492-a1cf-25dd4218f41b"
      },
      "source": [
        "# check zeros\n",
        "df[df['b0']==0].shape\n",
        "for i in range(1,11):\n",
        "    print(\"k=\", i, \", zeros of tau:\", (df[df['k']==i]['b0']==0).astype(int).sum())\n"
      ],
      "execution_count": 87,
      "outputs": [
        {
          "output_type": "stream",
          "text": [
            "k= 1 , zeros of tau: 25\n",
            "k= 2 , zeros of tau: 7\n",
            "k= 3 , zeros of tau: 4\n",
            "k= 4 , zeros of tau: 9\n",
            "k= 5 , zeros of tau: 1\n",
            "k= 6 , zeros of tau: 1\n",
            "k= 7 , zeros of tau: 4\n",
            "k= 8 , zeros of tau: 4\n",
            "k= 9 , zeros of tau: 4\n",
            "k= 10 , zeros of tau: 3\n"
          ],
          "name": "stdout"
        }
      ]
    },
    {
      "cell_type": "markdown",
      "metadata": {
        "id": "gtDXYUOo8ESJ"
      },
      "source": [
        "### $\\tau (k) $"
      ]
    },
    {
      "cell_type": "code",
      "metadata": {
        "colab": {
          "base_uri": "https://localhost:8080/",
          "height": 320
        },
        "id": "vfmWgm9G7DSt",
        "outputId": "927ac284-7862-4981-bcaf-568d01e81292"
      },
      "source": [
        "plt.figure(figsize=(12,5))\n",
        "kf=11\n",
        "for i in range(1,kf):\n",
        "    plt.plot(df[df['k']==1]['date'],df[df['k']==i]['tau'])\n",
        "plt.legend(list(range(1,kf)))\n",
        "plt.show()"
      ],
      "execution_count": 88,
      "outputs": [
        {
          "output_type": "display_data",
          "data": {
            "image/png": "[encoded data removed]",
            "text/plain": [
              "<Figure size 864x360 with 1 Axes>"
            ]
          },
          "metadata": {
            "tags": [],
            "needs_background": "light"
          }
        }
      ]
    },
    {
      "cell_type": "code",
      "metadata": {
        "colab": {
          "base_uri": "https://localhost:8080/",
          "height": 320
        },
        "id": "5PaHCa34wtvd",
        "outputId": "3daedf80-4022-4839-bcf4-c8f8292021c8"
      },
      "source": [
        "plt.figure(figsize=(12,5))\n",
        "kf=3\n",
        "for i in range(1,kf):\n",
        "    plt.plot(df[df['k']==1]['date'],df[df['k']==i]['tau'])\n",
        "plt.legend(list(range(1,kf)))\n",
        "plt.show()"
      ],
      "execution_count": 89,
      "outputs": [
        {
          "output_type": "display_data",
          "data": {
            "image/png": "[encoded data removed]",
            "text/plain": [
              "<Figure size 864x360 with 1 Axes>"
            ]
          },
          "metadata": {
            "tags": [],
            "needs_background": "light"
          }
        }
      ]
    },
    {
      "cell_type": "code",
      "metadata": {
        "colab": {
          "base_uri": "https://localhost:8080/"
        },
        "id": "NwGswXGCFHZj",
        "outputId": "586f1723-8f69-4eb3-b195-809002fbe9b4"
      },
      "source": [
        "# check zeros\n",
        "print(df[df['tau']==0].shape)\n",
        "for i in range(1,11):\n",
        "    print(\"k=\", i, \", zeros of tau:\", (df[df['k']==i]['tau']==0).astype(int).sum())"
      ],
      "execution_count": 90,
      "outputs": [
        {
          "output_type": "stream",
          "text": [
            "(62, 7)\n",
            "k= 1 , zeros of tau: 25\n",
            "k= 2 , zeros of tau: 7\n",
            "k= 3 , zeros of tau: 4\n",
            "k= 4 , zeros of tau: 9\n",
            "k= 5 , zeros of tau: 1\n",
            "k= 6 , zeros of tau: 1\n",
            "k= 7 , zeros of tau: 4\n",
            "k= 8 , zeros of tau: 4\n",
            "k= 9 , zeros of tau: 4\n",
            "k= 10 , zeros of tau: 3\n"
          ],
          "name": "stdout"
        }
      ]
    },
    {
      "cell_type": "markdown",
      "metadata": {
        "id": "oPB-asxbEK7C"
      },
      "source": [
        "### fitNumber(k)"
      ]
    },
    {
      "cell_type": "code",
      "metadata": {
        "colab": {
          "base_uri": "https://localhost:8080/",
          "height": 320
        },
        "id": "sAd85TDiEFqG",
        "outputId": "a93539b3-3ba9-4119-a527-0faf61eb894a"
      },
      "source": [
        "plt.figure(figsize=(12,5))\n",
        "kf=11\n",
        "for i in range(1,kf):\n",
        "    plt.plot(df[df['k']==1]['date'],df[df['k']==i]['fitN'])\n",
        "plt.legend(list(range(1,kf)))\n",
        "plt.show()"
      ],
      "execution_count": 91,
      "outputs": [
        {
          "output_type": "display_data",
          "data": {
            "image/png": "[encoded data removed]",
            "text/plain": [
              "<Figure size 864x360 with 1 Axes>"
            ]
          },
          "metadata": {
            "tags": [],
            "needs_background": "light"
          }
        }
      ]
    },
    {
      "cell_type": "code",
      "metadata": {
        "colab": {
          "base_uri": "https://localhost:8080/",
          "height": 320
        },
        "id": "Vnrl8-oGw1MY",
        "outputId": "34d570f2-e514-4729-f874-5e20c0cfeb5a"
      },
      "source": [
        "plt.figure(figsize=(12,5))\n",
        "kf=3\n",
        "for i in range(1,kf):\n",
        "    plt.plot(df[df['k']==1]['date'],df[df['k']==i]['fitN'])\n",
        "plt.legend(list(range(1,kf)))\n",
        "plt.show()"
      ],
      "execution_count": 92,
      "outputs": [
        {
          "output_type": "display_data",
          "data": {
            "image/png": "[encoded data removed]",
            "text/plain": [
              "<Figure size 864x360 with 1 Axes>"
            ]
          },
          "metadata": {
            "tags": [],
            "needs_background": "light"
          }
        }
      ]
    },
    {
      "cell_type": "code",
      "metadata": {
        "colab": {
          "base_uri": "https://localhost:8080/"
        },
        "id": "e7j3R_vAFKXw",
        "outputId": "b0bf5b80-19b7-4e8a-ad8c-de41f061a6fa"
      },
      "source": [
        "# check zeros\n",
        "print(df[df['fitN']==0].shape)\n",
        "for i in range(1,11):\n",
        "    print(\"k=\", i, \", zeros of tau:\", (df[df['k']==i]['fitN']==0).astype(int).sum())"
      ],
      "execution_count": 93,
      "outputs": [
        {
          "output_type": "stream",
          "text": [
            "(62, 7)\n",
            "k= 1 , zeros of tau: 25\n",
            "k= 2 , zeros of tau: 7\n",
            "k= 3 , zeros of tau: 4\n",
            "k= 4 , zeros of tau: 9\n",
            "k= 5 , zeros of tau: 1\n",
            "k= 6 , zeros of tau: 1\n",
            "k= 7 , zeros of tau: 4\n",
            "k= 8 , zeros of tau: 4\n",
            "k= 9 , zeros of tau: 4\n",
            "k= 10 , zeros of tau: 3\n"
          ],
          "name": "stdout"
        }
      ]
    },
    {
      "cell_type": "markdown",
      "metadata": {
        "id": "qTWlKiQET-3g"
      },
      "source": [
        "## Rearrangenent of 40 features\n",
        "- 10 x 4 => 1 X 40"
      ]
    },
    {
      "cell_type": "code",
      "metadata": {
        "colab": {
          "base_uri": "https://localhost:8080/",
          "height": 362
        },
        "id": "ujYFz9U4pWEz",
        "outputId": "07058019-2a12-4ce9-e02a-5db1bf526a03"
      },
      "source": [
        "df_lastday"
      ],
      "execution_count": 94,
      "outputs": [
        {
          "output_type": "execute_result",
          "data": {
            "text/html": [
              "<div>\n",
              "<style scoped>\n",
              "    .dataframe tbody tr th:only-of-type {\n",
              "        vertical-align: middle;\n",
              "    }\n",
              "\n",
              "    .dataframe tbody tr th {\n",
              "        vertical-align: top;\n",
              "    }\n",
              "\n",
              "    .dataframe thead th {\n",
              "        text-align: right;\n",
              "    }\n",
              "</style>\n",
              "<table border=\"1\" class=\"dataframe\">\n",
              "  <thead>\n",
              "    <tr style=\"text-align: right;\">\n",
              "      <th></th>\n",
              "      <th>date</th>\n",
              "      <th>k</th>\n",
              "      <th>fitN</th>\n",
              "      <th>a0</th>\n",
              "      <th>a1</th>\n",
              "      <th>b0</th>\n",
              "      <th>tau</th>\n",
              "    </tr>\n",
              "  </thead>\n",
              "  <tbody>\n",
              "    <tr>\n",
              "      <th>22750</th>\n",
              "      <td>2018-05-30</td>\n",
              "      <td>1</td>\n",
              "      <td>41</td>\n",
              "      <td>-0.909242</td>\n",
              "      <td>0.000047</td>\n",
              "      <td>1.630237</td>\n",
              "      <td>26317.73</td>\n",
              "    </tr>\n",
              "    <tr>\n",
              "      <th>22751</th>\n",
              "      <td>2018-05-30</td>\n",
              "      <td>2</td>\n",
              "      <td>37</td>\n",
              "      <td>-0.717859</td>\n",
              "      <td>0.000038</td>\n",
              "      <td>1.179362</td>\n",
              "      <td>24196.48</td>\n",
              "    </tr>\n",
              "    <tr>\n",
              "      <th>22752</th>\n",
              "      <td>2018-05-30</td>\n",
              "      <td>3</td>\n",
              "      <td>40</td>\n",
              "      <td>-0.663725</td>\n",
              "      <td>0.000034</td>\n",
              "      <td>1.184611</td>\n",
              "      <td>27001.12</td>\n",
              "    </tr>\n",
              "    <tr>\n",
              "      <th>22753</th>\n",
              "      <td>2018-05-30</td>\n",
              "      <td>4</td>\n",
              "      <td>34</td>\n",
              "      <td>-0.557721</td>\n",
              "      <td>0.000030</td>\n",
              "      <td>0.946422</td>\n",
              "      <td>24538.75</td>\n",
              "    </tr>\n",
              "    <tr>\n",
              "      <th>22754</th>\n",
              "      <td>2018-05-30</td>\n",
              "      <td>5</td>\n",
              "      <td>33</td>\n",
              "      <td>-0.586936</td>\n",
              "      <td>0.000031</td>\n",
              "      <td>1.003503</td>\n",
              "      <td>25239.68</td>\n",
              "    </tr>\n",
              "    <tr>\n",
              "      <th>22755</th>\n",
              "      <td>2018-05-30</td>\n",
              "      <td>6</td>\n",
              "      <td>38</td>\n",
              "      <td>-0.619580</td>\n",
              "      <td>0.000034</td>\n",
              "      <td>1.086507</td>\n",
              "      <td>24645.88</td>\n",
              "    </tr>\n",
              "    <tr>\n",
              "      <th>22756</th>\n",
              "      <td>2018-05-30</td>\n",
              "      <td>7</td>\n",
              "      <td>38</td>\n",
              "      <td>-0.557049</td>\n",
              "      <td>0.000030</td>\n",
              "      <td>0.952689</td>\n",
              "      <td>24562.41</td>\n",
              "    </tr>\n",
              "    <tr>\n",
              "      <th>22757</th>\n",
              "      <td>2018-05-30</td>\n",
              "      <td>8</td>\n",
              "      <td>39</td>\n",
              "      <td>-0.595521</td>\n",
              "      <td>0.000031</td>\n",
              "      <td>1.025429</td>\n",
              "      <td>24977.92</td>\n",
              "    </tr>\n",
              "    <tr>\n",
              "      <th>22758</th>\n",
              "      <td>2018-05-30</td>\n",
              "      <td>9</td>\n",
              "      <td>40</td>\n",
              "      <td>-0.570060</td>\n",
              "      <td>0.000030</td>\n",
              "      <td>0.986699</td>\n",
              "      <td>25263.94</td>\n",
              "    </tr>\n",
              "    <tr>\n",
              "      <th>22759</th>\n",
              "      <td>2018-05-30</td>\n",
              "      <td>10</td>\n",
              "      <td>24</td>\n",
              "      <td>-0.619659</td>\n",
              "      <td>0.000033</td>\n",
              "      <td>1.065320</td>\n",
              "      <td>24705.70</td>\n",
              "    </tr>\n",
              "  </tbody>\n",
              "</table>\n",
              "</div>"
            ],
            "text/plain": [
              "            date   k  fitN        a0        a1        b0       tau\n",
              "22750 2018-05-30   1    41 -0.909242  0.000047  1.630237  26317.73\n",
              "22751 2018-05-30   2    37 -0.717859  0.000038  1.179362  24196.48\n",
              "22752 2018-05-30   3    40 -0.663725  0.000034  1.184611  27001.12\n",
              "22753 2018-05-30   4    34 -0.557721  0.000030  0.946422  24538.75\n",
              "22754 2018-05-30   5    33 -0.586936  0.000031  1.003503  25239.68\n",
              "22755 2018-05-30   6    38 -0.619580  0.000034  1.086507  24645.88\n",
              "22756 2018-05-30   7    38 -0.557049  0.000030  0.952689  24562.41\n",
              "22757 2018-05-30   8    39 -0.595521  0.000031  1.025429  24977.92\n",
              "22758 2018-05-30   9    40 -0.570060  0.000030  0.986699  25263.94\n",
              "22759 2018-05-30  10    24 -0.619659  0.000033  1.065320  24705.70"
            ]
          },
          "metadata": {
            "tags": []
          },
          "execution_count": 94
        }
      ]
    },
    {
      "cell_type": "code",
      "metadata": {
        "colab": {
          "base_uri": "https://localhost:8080/",
          "height": 362
        },
        "id": "y5AvUXyWeIlB",
        "outputId": "0b1a48e9-745a-4c94-cc35-81867ad90198"
      },
      "source": [
        "df_lastday.iloc[:,3:]"
      ],
      "execution_count": 95,
      "outputs": [
        {
          "output_type": "execute_result",
          "data": {
            "text/html": [
              "<div>\n",
              "<style scoped>\n",
              "    .dataframe tbody tr th:only-of-type {\n",
              "        vertical-align: middle;\n",
              "    }\n",
              "\n",
              "    .dataframe tbody tr th {\n",
              "        vertical-align: top;\n",
              "    }\n",
              "\n",
              "    .dataframe thead th {\n",
              "        text-align: right;\n",
              "    }\n",
              "</style>\n",
              "<table border=\"1\" class=\"dataframe\">\n",
              "  <thead>\n",
              "    <tr style=\"text-align: right;\">\n",
              "      <th></th>\n",
              "      <th>a0</th>\n",
              "      <th>a1</th>\n",
              "      <th>b0</th>\n",
              "      <th>tau</th>\n",
              "    </tr>\n",
              "  </thead>\n",
              "  <tbody>\n",
              "    <tr>\n",
              "      <th>22750</th>\n",
              "      <td>-0.909242</td>\n",
              "      <td>0.000047</td>\n",
              "      <td>1.630237</td>\n",
              "      <td>26317.73</td>\n",
              "    </tr>\n",
              "    <tr>\n",
              "      <th>22751</th>\n",
              "      <td>-0.717859</td>\n",
              "      <td>0.000038</td>\n",
              "      <td>1.179362</td>\n",
              "      <td>24196.48</td>\n",
              "    </tr>\n",
              "    <tr>\n",
              "      <th>22752</th>\n",
              "      <td>-0.663725</td>\n",
              "      <td>0.000034</td>\n",
              "      <td>1.184611</td>\n",
              "      <td>27001.12</td>\n",
              "    </tr>\n",
              "    <tr>\n",
              "      <th>22753</th>\n",
              "      <td>-0.557721</td>\n",
              "      <td>0.000030</td>\n",
              "      <td>0.946422</td>\n",
              "      <td>24538.75</td>\n",
              "    </tr>\n",
              "    <tr>\n",
              "      <th>22754</th>\n",
              "      <td>-0.586936</td>\n",
              "      <td>0.000031</td>\n",
              "      <td>1.003503</td>\n",
              "      <td>25239.68</td>\n",
              "    </tr>\n",
              "    <tr>\n",
              "      <th>22755</th>\n",
              "      <td>-0.619580</td>\n",
              "      <td>0.000034</td>\n",
              "      <td>1.086507</td>\n",
              "      <td>24645.88</td>\n",
              "    </tr>\n",
              "    <tr>\n",
              "      <th>22756</th>\n",
              "      <td>-0.557049</td>\n",
              "      <td>0.000030</td>\n",
              "      <td>0.952689</td>\n",
              "      <td>24562.41</td>\n",
              "    </tr>\n",
              "    <tr>\n",
              "      <th>22757</th>\n",
              "      <td>-0.595521</td>\n",
              "      <td>0.000031</td>\n",
              "      <td>1.025429</td>\n",
              "      <td>24977.92</td>\n",
              "    </tr>\n",
              "    <tr>\n",
              "      <th>22758</th>\n",
              "      <td>-0.570060</td>\n",
              "      <td>0.000030</td>\n",
              "      <td>0.986699</td>\n",
              "      <td>25263.94</td>\n",
              "    </tr>\n",
              "    <tr>\n",
              "      <th>22759</th>\n",
              "      <td>-0.619659</td>\n",
              "      <td>0.000033</td>\n",
              "      <td>1.065320</td>\n",
              "      <td>24705.70</td>\n",
              "    </tr>\n",
              "  </tbody>\n",
              "</table>\n",
              "</div>"
            ],
            "text/plain": [
              "             a0        a1        b0       tau\n",
              "22750 -0.909242  0.000047  1.630237  26317.73\n",
              "22751 -0.717859  0.000038  1.179362  24196.48\n",
              "22752 -0.663725  0.000034  1.184611  27001.12\n",
              "22753 -0.557721  0.000030  0.946422  24538.75\n",
              "22754 -0.586936  0.000031  1.003503  25239.68\n",
              "22755 -0.619580  0.000034  1.086507  24645.88\n",
              "22756 -0.557049  0.000030  0.952689  24562.41\n",
              "22757 -0.595521  0.000031  1.025429  24977.92\n",
              "22758 -0.570060  0.000030  0.986699  25263.94\n",
              "22759 -0.619659  0.000033  1.065320  24705.70"
            ]
          },
          "metadata": {
            "tags": []
          },
          "execution_count": 95
        }
      ]
    },
    {
      "cell_type": "code",
      "metadata": {
        "colab": {
          "base_uri": "https://localhost:8080/"
        },
        "id": "80eqkiC1UpXU",
        "outputId": "bdb0d89b-1342-4eb5-fda2-e372d074c1c0"
      },
      "source": [
        "df1 = df_lastday.iloc[:,3:].values\n",
        "df1\n",
        "# "
      ],
      "execution_count": 96,
      "outputs": [
        {
          "output_type": "execute_result",
          "data": {
            "text/plain": [
              "array([[-9.092425e-01,  4.726604e-05,  1.630237e+00,  2.631773e+04],\n",
              "       [-7.178591e-01,  3.804700e-05,  1.179362e+00,  2.419648e+04],\n",
              "       [-6.637255e-01,  3.351945e-05,  1.184611e+00,  2.700112e+04],\n",
              "       [-5.577212e-01,  2.978091e-05,  9.464223e-01,  2.453875e+04],\n",
              "       [-5.869357e-01,  3.069025e-05,  1.003503e+00,  2.523968e+04],\n",
              "       [-6.195801e-01,  3.381641e-05,  1.086507e+00,  2.464588e+04],\n",
              "       [-5.570494e-01,  2.988899e-05,  9.526887e-01,  2.456241e+04],\n",
              "       [-5.955210e-01,  3.142116e-05,  1.025429e+00,  2.497792e+04],\n",
              "       [-5.700596e-01,  2.989930e-05,  9.866988e-01,  2.526394e+04],\n",
              "       [-6.196593e-01,  3.303405e-05,  1.065320e+00,  2.470570e+04]])"
            ]
          },
          "metadata": {
            "tags": []
          },
          "execution_count": 96
        }
      ]
    },
    {
      "cell_type": "code",
      "metadata": {
        "colab": {
          "base_uri": "https://localhost:8080/"
        },
        "id": "fVOsQNjEkosh",
        "outputId": "71a3c268-add5-469a-a827-9663c8cad3c9"
      },
      "source": [
        "df.columns[3:],df1.T"
      ],
      "execution_count": 97,
      "outputs": [
        {
          "output_type": "execute_result",
          "data": {
            "text/plain": [
              "(Index(['a0', 'a1', 'b0', 'tau'], dtype='object'),\n",
              " array([[-9.092425e-01, -7.178591e-01, -6.637255e-01, -5.577212e-01,\n",
              "         -5.869357e-01, -6.195801e-01, -5.570494e-01, -5.955210e-01,\n",
              "         -5.700596e-01, -6.196593e-01],\n",
              "        [ 4.726604e-05,  3.804700e-05,  3.351945e-05,  2.978091e-05,\n",
              "          3.069025e-05,  3.381641e-05,  2.988899e-05,  3.142116e-05,\n",
              "          2.989930e-05,  3.303405e-05],\n",
              "        [ 1.630237e+00,  1.179362e+00,  1.184611e+00,  9.464223e-01,\n",
              "          1.003503e+00,  1.086507e+00,  9.526887e-01,  1.025429e+00,\n",
              "          9.866988e-01,  1.065320e+00],\n",
              "        [ 2.631773e+04,  2.419648e+04,  2.700112e+04,  2.453875e+04,\n",
              "          2.523968e+04,  2.464588e+04,  2.456241e+04,  2.497792e+04,\n",
              "          2.526394e+04,  2.470570e+04]]))"
            ]
          },
          "metadata": {
            "tags": []
          },
          "execution_count": 97
        }
      ]
    },
    {
      "cell_type": "code",
      "metadata": {
        "colab": {
          "base_uri": "https://localhost:8080/"
        },
        "id": "0bkxGnteVsRC",
        "outputId": "61e0a8bd-2574-49d2-ec28-2dfcb79f5055"
      },
      "source": [
        "df1.T.reshape(1,-1).shape"
      ],
      "execution_count": 98,
      "outputs": [
        {
          "output_type": "execute_result",
          "data": {
            "text/plain": [
              "(1, 40)"
            ]
          },
          "metadata": {
            "tags": []
          },
          "execution_count": 98
        }
      ]
    },
    {
      "cell_type": "code",
      "metadata": {
        "colab": {
          "base_uri": "https://localhost:8080/"
        },
        "id": "MT8Q0J-gXvHT",
        "outputId": "9df81183-1214-402e-c06c-5b68490e3929"
      },
      "source": [
        "df1.T.reshape(1,-1)"
      ],
      "execution_count": 99,
      "outputs": [
        {
          "output_type": "execute_result",
          "data": {
            "text/plain": [
              "array([[-9.092425e-01, -7.178591e-01, -6.637255e-01, -5.577212e-01,\n",
              "        -5.869357e-01, -6.195801e-01, -5.570494e-01, -5.955210e-01,\n",
              "        -5.700596e-01, -6.196593e-01,  4.726604e-05,  3.804700e-05,\n",
              "         3.351945e-05,  2.978091e-05,  3.069025e-05,  3.381641e-05,\n",
              "         2.988899e-05,  3.142116e-05,  2.989930e-05,  3.303405e-05,\n",
              "         1.630237e+00,  1.179362e+00,  1.184611e+00,  9.464223e-01,\n",
              "         1.003503e+00,  1.086507e+00,  9.526887e-01,  1.025429e+00,\n",
              "         9.866988e-01,  1.065320e+00,  2.631773e+04,  2.419648e+04,\n",
              "         2.700112e+04,  2.453875e+04,  2.523968e+04,  2.464588e+04,\n",
              "         2.456241e+04,  2.497792e+04,  2.526394e+04,  2.470570e+04]])"
            ]
          },
          "metadata": {
            "tags": []
          },
          "execution_count": 99
        }
      ]
    },
    {
      "cell_type": "code",
      "metadata": {
        "id": "kFoZyviRX0SS",
        "colab": {
          "base_uri": "https://localhost:8080/"
        },
        "outputId": "748b0b66-c099-4f16-b001-a98aef2a083c"
      },
      "source": [
        "df.shape,df.iloc[:,3:].shape,df.iloc[:,3:].values.shape\n"
      ],
      "execution_count": 100,
      "outputs": [
        {
          "output_type": "execute_result",
          "data": {
            "text/plain": [
              "((22760, 7), (22760, 4), (22760, 4))"
            ]
          },
          "metadata": {
            "tags": []
          },
          "execution_count": 100
        }
      ]
    },
    {
      "cell_type": "code",
      "metadata": {
        "id": "V7D2QmqskRvC",
        "colab": {
          "base_uri": "https://localhost:8080/"
        },
        "outputId": "e3ae72de-2021-422d-f848-58f89a75ec6d"
      },
      "source": [
        "# ndarray\n",
        "df.iloc[:,3:].values.T.reshape(1,40,-1).shape"
      ],
      "execution_count": 101,
      "outputs": [
        {
          "output_type": "execute_result",
          "data": {
            "text/plain": [
              "(1, 40, 2276)"
            ]
          },
          "metadata": {
            "tags": []
          },
          "execution_count": 101
        }
      ]
    },
    {
      "cell_type": "code",
      "metadata": {
        "id": "SfVFOQudkRvC",
        "colab": {
          "base_uri": "https://localhost:8080/",
          "height": 362
        },
        "outputId": "8eaada5f-bda9-4cb2-f2bc-ac2601e975e5"
      },
      "source": [
        "df.head(10)"
      ],
      "execution_count": 102,
      "outputs": [
        {
          "output_type": "execute_result",
          "data": {
            "text/html": [
              "<div>\n",
              "<style scoped>\n",
              "    .dataframe tbody tr th:only-of-type {\n",
              "        vertical-align: middle;\n",
              "    }\n",
              "\n",
              "    .dataframe tbody tr th {\n",
              "        vertical-align: top;\n",
              "    }\n",
              "\n",
              "    .dataframe thead th {\n",
              "        text-align: right;\n",
              "    }\n",
              "</style>\n",
              "<table border=\"1\" class=\"dataframe\">\n",
              "  <thead>\n",
              "    <tr style=\"text-align: right;\">\n",
              "      <th></th>\n",
              "      <th>date</th>\n",
              "      <th>k</th>\n",
              "      <th>fitN</th>\n",
              "      <th>a0</th>\n",
              "      <th>a1</th>\n",
              "      <th>b0</th>\n",
              "      <th>tau</th>\n",
              "    </tr>\n",
              "  </thead>\n",
              "  <tbody>\n",
              "    <tr>\n",
              "      <th>0</th>\n",
              "      <td>2009-03-23</td>\n",
              "      <td>1</td>\n",
              "      <td>37</td>\n",
              "      <td>-2.727038</td>\n",
              "      <td>0.001550</td>\n",
              "      <td>2.984912</td>\n",
              "      <td>1461.122</td>\n",
              "    </tr>\n",
              "    <tr>\n",
              "      <th>1</th>\n",
              "      <td>2009-03-23</td>\n",
              "      <td>2</td>\n",
              "      <td>38</td>\n",
              "      <td>-3.703672</td>\n",
              "      <td>0.001828</td>\n",
              "      <td>3.313493</td>\n",
              "      <td>1499.507</td>\n",
              "    </tr>\n",
              "    <tr>\n",
              "      <th>2</th>\n",
              "      <td>2009-03-23</td>\n",
              "      <td>3</td>\n",
              "      <td>28</td>\n",
              "      <td>-3.933671</td>\n",
              "      <td>0.002574</td>\n",
              "      <td>4.407811</td>\n",
              "      <td>1292.837</td>\n",
              "    </tr>\n",
              "    <tr>\n",
              "      <th>3</th>\n",
              "      <td>2009-03-23</td>\n",
              "      <td>4</td>\n",
              "      <td>13</td>\n",
              "      <td>-4.360880</td>\n",
              "      <td>0.002469</td>\n",
              "      <td>4.251816</td>\n",
              "      <td>1329.968</td>\n",
              "    </tr>\n",
              "    <tr>\n",
              "      <th>4</th>\n",
              "      <td>2009-03-23</td>\n",
              "      <td>5</td>\n",
              "      <td>30</td>\n",
              "      <td>-3.669309</td>\n",
              "      <td>0.001936</td>\n",
              "      <td>3.896841</td>\n",
              "      <td>1547.975</td>\n",
              "    </tr>\n",
              "    <tr>\n",
              "      <th>5</th>\n",
              "      <td>2009-03-23</td>\n",
              "      <td>6</td>\n",
              "      <td>18</td>\n",
              "      <td>-3.317302</td>\n",
              "      <td>0.001605</td>\n",
              "      <td>3.441775</td>\n",
              "      <td>1681.609</td>\n",
              "    </tr>\n",
              "    <tr>\n",
              "      <th>6</th>\n",
              "      <td>2009-03-23</td>\n",
              "      <td>7</td>\n",
              "      <td>25</td>\n",
              "      <td>-3.789300</td>\n",
              "      <td>0.001868</td>\n",
              "      <td>3.772554</td>\n",
              "      <td>1597.517</td>\n",
              "    </tr>\n",
              "    <tr>\n",
              "      <th>7</th>\n",
              "      <td>2009-03-23</td>\n",
              "      <td>8</td>\n",
              "      <td>27</td>\n",
              "      <td>-2.920232</td>\n",
              "      <td>0.001748</td>\n",
              "      <td>3.582601</td>\n",
              "      <td>1526.722</td>\n",
              "    </tr>\n",
              "    <tr>\n",
              "      <th>8</th>\n",
              "      <td>2009-03-23</td>\n",
              "      <td>9</td>\n",
              "      <td>24</td>\n",
              "      <td>-2.455292</td>\n",
              "      <td>0.001631</td>\n",
              "      <td>3.674260</td>\n",
              "      <td>1628.337</td>\n",
              "    </tr>\n",
              "    <tr>\n",
              "      <th>9</th>\n",
              "      <td>2009-03-23</td>\n",
              "      <td>10</td>\n",
              "      <td>27</td>\n",
              "      <td>-2.013126</td>\n",
              "      <td>0.001319</td>\n",
              "      <td>3.246674</td>\n",
              "      <td>1772.121</td>\n",
              "    </tr>\n",
              "  </tbody>\n",
              "</table>\n",
              "</div>"
            ],
            "text/plain": [
              "        date   k  fitN        a0        a1        b0       tau\n",
              "0 2009-03-23   1    37 -2.727038  0.001550  2.984912  1461.122\n",
              "1 2009-03-23   2    38 -3.703672  0.001828  3.313493  1499.507\n",
              "2 2009-03-23   3    28 -3.933671  0.002574  4.407811  1292.837\n",
              "3 2009-03-23   4    13 -4.360880  0.002469  4.251816  1329.968\n",
              "4 2009-03-23   5    30 -3.669309  0.001936  3.896841  1547.975\n",
              "5 2009-03-23   6    18 -3.317302  0.001605  3.441775  1681.609\n",
              "6 2009-03-23   7    25 -3.789300  0.001868  3.772554  1597.517\n",
              "7 2009-03-23   8    27 -2.920232  0.001748  3.582601  1526.722\n",
              "8 2009-03-23   9    24 -2.455292  0.001631  3.674260  1628.337\n",
              "9 2009-03-23  10    27 -2.013126  0.001319  3.246674  1772.121"
            ]
          },
          "metadata": {
            "tags": []
          },
          "execution_count": 102
        }
      ]
    },
    {
      "cell_type": "code",
      "metadata": {
        "id": "_T_2IdNokRvD",
        "colab": {
          "base_uri": "https://localhost:8080/"
        },
        "outputId": "1d6f5a30-da78-48bd-97ac-67b13eaaa9cf"
      },
      "source": [
        "df['date'].unique()[:5],df['date'].unique()[-5:]"
      ],
      "execution_count": 103,
      "outputs": [
        {
          "output_type": "execute_result",
          "data": {
            "text/plain": [
              "(array(['2009-03-23T00:00:00.000000000', '2009-03-24T00:00:00.000000000',\n",
              "        '2009-03-25T00:00:00.000000000', '2009-03-26T00:00:00.000000000',\n",
              "        '2009-03-27T00:00:00.000000000'], dtype='datetime64[ns]'),\n",
              " array(['2018-05-24T00:00:00.000000000', '2018-05-25T00:00:00.000000000',\n",
              "        '2018-05-28T00:00:00.000000000', '2018-05-29T00:00:00.000000000',\n",
              "        '2018-05-30T00:00:00.000000000'], dtype='datetime64[ns]'))"
            ]
          },
          "metadata": {
            "tags": []
          },
          "execution_count": 103
        }
      ]
    },
    {
      "cell_type": "code",
      "metadata": {
        "colab": {
          "base_uri": "https://localhost:8080/"
        },
        "id": "lIosetXIuMoW",
        "outputId": "7f1be2f8-9253-46c3-c547-15313362e3b4"
      },
      "source": [
        "dates = df['date'].unique()\n",
        "dates.shape,type(dates)"
      ],
      "execution_count": 104,
      "outputs": [
        {
          "output_type": "execute_result",
          "data": {
            "text/plain": [
              "((2276,), numpy.ndarray)"
            ]
          },
          "metadata": {
            "tags": []
          },
          "execution_count": 104
        }
      ]
    },
    {
      "cell_type": "code",
      "metadata": {
        "colab": {
          "base_uri": "https://localhost:8080/",
          "height": 362
        },
        "id": "KJhPmSJnwQcl",
        "outputId": "bbcee89d-5732-4df9-f14c-d33a0a692dbc"
      },
      "source": [
        "df_firstday=df[df['date']==dates[0]]\n",
        "df_firstday"
      ],
      "execution_count": 105,
      "outputs": [
        {
          "output_type": "execute_result",
          "data": {
            "text/html": [
              "<div>\n",
              "<style scoped>\n",
              "    .dataframe tbody tr th:only-of-type {\n",
              "        vertical-align: middle;\n",
              "    }\n",
              "\n",
              "    .dataframe tbody tr th {\n",
              "        vertical-align: top;\n",
              "    }\n",
              "\n",
              "    .dataframe thead th {\n",
              "        text-align: right;\n",
              "    }\n",
              "</style>\n",
              "<table border=\"1\" class=\"dataframe\">\n",
              "  <thead>\n",
              "    <tr style=\"text-align: right;\">\n",
              "      <th></th>\n",
              "      <th>date</th>\n",
              "      <th>k</th>\n",
              "      <th>fitN</th>\n",
              "      <th>a0</th>\n",
              "      <th>a1</th>\n",
              "      <th>b0</th>\n",
              "      <th>tau</th>\n",
              "    </tr>\n",
              "  </thead>\n",
              "  <tbody>\n",
              "    <tr>\n",
              "      <th>0</th>\n",
              "      <td>2009-03-23</td>\n",
              "      <td>1</td>\n",
              "      <td>37</td>\n",
              "      <td>-2.727038</td>\n",
              "      <td>0.001550</td>\n",
              "      <td>2.984912</td>\n",
              "      <td>1461.122</td>\n",
              "    </tr>\n",
              "    <tr>\n",
              "      <th>1</th>\n",
              "      <td>2009-03-23</td>\n",
              "      <td>2</td>\n",
              "      <td>38</td>\n",
              "      <td>-3.703672</td>\n",
              "      <td>0.001828</td>\n",
              "      <td>3.313493</td>\n",
              "      <td>1499.507</td>\n",
              "    </tr>\n",
              "    <tr>\n",
              "      <th>2</th>\n",
              "      <td>2009-03-23</td>\n",
              "      <td>3</td>\n",
              "      <td>28</td>\n",
              "      <td>-3.933671</td>\n",
              "      <td>0.002574</td>\n",
              "      <td>4.407811</td>\n",
              "      <td>1292.837</td>\n",
              "    </tr>\n",
              "    <tr>\n",
              "      <th>3</th>\n",
              "      <td>2009-03-23</td>\n",
              "      <td>4</td>\n",
              "      <td>13</td>\n",
              "      <td>-4.360880</td>\n",
              "      <td>0.002469</td>\n",
              "      <td>4.251816</td>\n",
              "      <td>1329.968</td>\n",
              "    </tr>\n",
              "    <tr>\n",
              "      <th>4</th>\n",
              "      <td>2009-03-23</td>\n",
              "      <td>5</td>\n",
              "      <td>30</td>\n",
              "      <td>-3.669309</td>\n",
              "      <td>0.001936</td>\n",
              "      <td>3.896841</td>\n",
              "      <td>1547.975</td>\n",
              "    </tr>\n",
              "    <tr>\n",
              "      <th>5</th>\n",
              "      <td>2009-03-23</td>\n",
              "      <td>6</td>\n",
              "      <td>18</td>\n",
              "      <td>-3.317302</td>\n",
              "      <td>0.001605</td>\n",
              "      <td>3.441775</td>\n",
              "      <td>1681.609</td>\n",
              "    </tr>\n",
              "    <tr>\n",
              "      <th>6</th>\n",
              "      <td>2009-03-23</td>\n",
              "      <td>7</td>\n",
              "      <td>25</td>\n",
              "      <td>-3.789300</td>\n",
              "      <td>0.001868</td>\n",
              "      <td>3.772554</td>\n",
              "      <td>1597.517</td>\n",
              "    </tr>\n",
              "    <tr>\n",
              "      <th>7</th>\n",
              "      <td>2009-03-23</td>\n",
              "      <td>8</td>\n",
              "      <td>27</td>\n",
              "      <td>-2.920232</td>\n",
              "      <td>0.001748</td>\n",
              "      <td>3.582601</td>\n",
              "      <td>1526.722</td>\n",
              "    </tr>\n",
              "    <tr>\n",
              "      <th>8</th>\n",
              "      <td>2009-03-23</td>\n",
              "      <td>9</td>\n",
              "      <td>24</td>\n",
              "      <td>-2.455292</td>\n",
              "      <td>0.001631</td>\n",
              "      <td>3.674260</td>\n",
              "      <td>1628.337</td>\n",
              "    </tr>\n",
              "    <tr>\n",
              "      <th>9</th>\n",
              "      <td>2009-03-23</td>\n",
              "      <td>10</td>\n",
              "      <td>27</td>\n",
              "      <td>-2.013126</td>\n",
              "      <td>0.001319</td>\n",
              "      <td>3.246674</td>\n",
              "      <td>1772.121</td>\n",
              "    </tr>\n",
              "  </tbody>\n",
              "</table>\n",
              "</div>"
            ],
            "text/plain": [
              "        date   k  fitN        a0        a1        b0       tau\n",
              "0 2009-03-23   1    37 -2.727038  0.001550  2.984912  1461.122\n",
              "1 2009-03-23   2    38 -3.703672  0.001828  3.313493  1499.507\n",
              "2 2009-03-23   3    28 -3.933671  0.002574  4.407811  1292.837\n",
              "3 2009-03-23   4    13 -4.360880  0.002469  4.251816  1329.968\n",
              "4 2009-03-23   5    30 -3.669309  0.001936  3.896841  1547.975\n",
              "5 2009-03-23   6    18 -3.317302  0.001605  3.441775  1681.609\n",
              "6 2009-03-23   7    25 -3.789300  0.001868  3.772554  1597.517\n",
              "7 2009-03-23   8    27 -2.920232  0.001748  3.582601  1526.722\n",
              "8 2009-03-23   9    24 -2.455292  0.001631  3.674260  1628.337\n",
              "9 2009-03-23  10    27 -2.013126  0.001319  3.246674  1772.121"
            ]
          },
          "metadata": {
            "tags": []
          },
          "execution_count": 105
        }
      ]
    },
    {
      "cell_type": "code",
      "metadata": {
        "colab": {
          "base_uri": "https://localhost:8080/"
        },
        "id": "OT-Hz55FxlW7",
        "outputId": "f7147e49-3c95-403a-bc03-de78a7e223fa"
      },
      "source": [
        "df[df['date']==dates[0]].iloc[:,3:].values.T.reshape(1,-1)"
      ],
      "execution_count": 106,
      "outputs": [
        {
          "output_type": "execute_result",
          "data": {
            "text/plain": [
              "array([[-2.727038e+00, -3.703672e+00, -3.933671e+00, -4.360880e+00,\n",
              "        -3.669309e+00, -3.317302e+00, -3.789300e+00, -2.920232e+00,\n",
              "        -2.455292e+00, -2.013126e+00,  1.549985e-03,  1.827837e-03,\n",
              "         2.574144e-03,  2.469195e-03,  1.935527e-03,  1.605084e-03,\n",
              "         1.867791e-03,  1.747770e-03,  1.630587e-03,  1.319239e-03,\n",
              "         2.984912e+00,  3.313493e+00,  4.407811e+00,  4.251816e+00,\n",
              "         3.896841e+00,  3.441775e+00,  3.772554e+00,  3.582601e+00,\n",
              "         3.674260e+00,  3.246674e+00,  1.461122e+03,  1.499507e+03,\n",
              "         1.292837e+03,  1.329968e+03,  1.547975e+03,  1.681609e+03,\n",
              "         1.597517e+03,  1.526722e+03,  1.628337e+03,  1.772121e+03]])"
            ]
          },
          "metadata": {
            "tags": []
          },
          "execution_count": 106
        }
      ]
    },
    {
      "cell_type": "code",
      "metadata": {
        "colab": {
          "base_uri": "https://localhost:8080/"
        },
        "id": "PIKeVcYjwqF7",
        "outputId": "767a890f-a30c-4837-db07-c75d84c94b02"
      },
      "source": [
        "# Arrangement of features\n",
        "num_features = 40 # 1 x 40\n",
        "features_array = np.zeros((1, num_features))\n",
        "for date in dates:\n",
        "    oneday_features = df[df['date']==date].iloc[:,3:].values.T.reshape(1,-1) # 1 x 40 array\n",
        "    features_array = np.concatenate((features_array,oneday_features), axis=0)\n",
        "\n",
        "features_array = features_array[1:][:]\n",
        "features_array.shape"
      ],
      "execution_count": 107,
      "outputs": [
        {
          "output_type": "execute_result",
          "data": {
            "text/plain": [
              "(2276, 40)"
            ]
          },
          "metadata": {
            "tags": []
          },
          "execution_count": 107
        }
      ]
    },
    {
      "cell_type": "code",
      "metadata": {
        "colab": {
          "base_uri": "https://localhost:8080/"
        },
        "id": "ZhcPWLZV2gKM",
        "outputId": "5c3ce6a9-2130-47a6-c08c-047d7abbf769"
      },
      "source": [
        "features_array[0],features_array[-1]"
      ],
      "execution_count": 108,
      "outputs": [
        {
          "output_type": "execute_result",
          "data": {
            "text/plain": [
              "(array([-2.727038e+00, -3.703672e+00, -3.933671e+00, -4.360880e+00,\n",
              "        -3.669309e+00, -3.317302e+00, -3.789300e+00, -2.920232e+00,\n",
              "        -2.455292e+00, -2.013126e+00,  1.549985e-03,  1.827837e-03,\n",
              "         2.574144e-03,  2.469195e-03,  1.935527e-03,  1.605084e-03,\n",
              "         1.867791e-03,  1.747770e-03,  1.630587e-03,  1.319239e-03,\n",
              "         2.984912e+00,  3.313493e+00,  4.407811e+00,  4.251816e+00,\n",
              "         3.896841e+00,  3.441775e+00,  3.772554e+00,  3.582601e+00,\n",
              "         3.674260e+00,  3.246674e+00,  1.461122e+03,  1.499507e+03,\n",
              "         1.292837e+03,  1.329968e+03,  1.547975e+03,  1.681609e+03,\n",
              "         1.597517e+03,  1.526722e+03,  1.628337e+03,  1.772121e+03]),\n",
              " array([-9.092425e-01, -7.178591e-01, -6.637255e-01, -5.577212e-01,\n",
              "        -5.869357e-01, -6.195801e-01, -5.570494e-01, -5.955210e-01,\n",
              "        -5.700596e-01, -6.196593e-01,  4.726604e-05,  3.804700e-05,\n",
              "         3.351945e-05,  2.978091e-05,  3.069025e-05,  3.381641e-05,\n",
              "         2.988899e-05,  3.142116e-05,  2.989930e-05,  3.303405e-05,\n",
              "         1.630237e+00,  1.179362e+00,  1.184611e+00,  9.464223e-01,\n",
              "         1.003503e+00,  1.086507e+00,  9.526887e-01,  1.025429e+00,\n",
              "         9.866988e-01,  1.065320e+00,  2.631773e+04,  2.419648e+04,\n",
              "         2.700112e+04,  2.453875e+04,  2.523968e+04,  2.464588e+04,\n",
              "         2.456241e+04,  2.497792e+04,  2.526394e+04,  2.470570e+04]))"
            ]
          },
          "metadata": {
            "tags": []
          },
          "execution_count": 108
        }
      ]
    },
    {
      "cell_type": "code",
      "metadata": {
        "id": "gDqMDOwv2j6z",
        "colab": {
          "base_uri": "https://localhost:8080/"
        },
        "outputId": "f78f51b3-f4f5-4249-b344-e11d9082490c"
      },
      "source": [
        "df_kia.shape, features_array.shape"
      ],
      "execution_count": 109,
      "outputs": [
        {
          "output_type": "execute_result",
          "data": {
            "text/plain": [
              "((2276, 6), (2276, 40))"
            ]
          },
          "metadata": {
            "tags": []
          },
          "execution_count": 109
        }
      ]
    },
    {
      "cell_type": "code",
      "metadata": {
        "colab": {
          "base_uri": "https://localhost:8080/"
        },
        "id": "wPGLlQyJB9Nz",
        "outputId": "35d643a4-923b-4846-a1cf-b7ff4ee3076b"
      },
      "source": [
        "# obj = [\"Even\" if i%2==0 else \"Odd\" for i in range(10)]\n",
        "a0_f = ['a0k0'+ str(i) if i<10 else 'a0k'+ str(i) for i in range(1,11)]\n",
        "print(a0_f)\n",
        "a1_f = ['a1k0'+ str(i) if i<10 else 'a1k'+ str(i) for i in range(1,11)]\n",
        "b0_f = ['b0k0'+ str(i) if i<10 else 'b0k'+ str(i) for i in range(1,11)]\n",
        "tau_f = ['tauk0'+ str(i) if i<10 else 'tauk'+ str(i) for i in range(1,11)]\n",
        "feature_columns = a0_f + a1_f + b0_f + tau_f\n",
        "print(feature_columns)"
      ],
      "execution_count": 110,
      "outputs": [
        {
          "output_type": "stream",
          "text": [
            "['a0k01', 'a0k02', 'a0k03', 'a0k04', 'a0k05', 'a0k06', 'a0k07', 'a0k08', 'a0k09', 'a0k10']\n",
            "['a0k01', 'a0k02', 'a0k03', 'a0k04', 'a0k05', 'a0k06', 'a0k07', 'a0k08', 'a0k09', 'a0k10', 'a1k01', 'a1k02', 'a1k03', 'a1k04', 'a1k05', 'a1k06', 'a1k07', 'a1k08', 'a1k09', 'a1k10', 'b0k01', 'b0k02', 'b0k03', 'b0k04', 'b0k05', 'b0k06', 'b0k07', 'b0k08', 'b0k09', 'b0k10', 'tauk01', 'tauk02', 'tauk03', 'tauk04', 'tauk05', 'tauk06', 'tauk07', 'tauk08', 'tauk09', 'tauk10']\n"
          ],
          "name": "stdout"
        }
      ]
    },
    {
      "cell_type": "code",
      "metadata": {
        "colab": {
          "base_uri": "https://localhost:8080/"
        },
        "id": "Qva0FKhh8n4f",
        "outputId": "2f105be0-9ab2-4ebb-af32-d49c756fa2da"
      },
      "source": [
        "df_kia2 = pd.concat([df_kia, pd.DataFrame(features_array,index=df_kia.index, columns=feature_columns)], axis=1)\n",
        "df_kia2.shape"
      ],
      "execution_count": 111,
      "outputs": [
        {
          "output_type": "execute_result",
          "data": {
            "text/plain": [
              "(2276, 46)"
            ]
          },
          "metadata": {
            "tags": []
          },
          "execution_count": 111
        }
      ]
    },
    {
      "cell_type": "code",
      "metadata": {
        "colab": {
          "base_uri": "https://localhost:8080/",
          "height": 343
        },
        "id": "HYQju_zZ9ZQ8",
        "outputId": "85872bdc-6087-4e51-98e2-9791b6911c9a"
      },
      "source": [
        "df_kia2.head()"
      ],
      "execution_count": 112,
      "outputs": [
        {
          "output_type": "execute_result",
          "data": {
            "text/html": [
              "<div>\n",
              "<style scoped>\n",
              "    .dataframe tbody tr th:only-of-type {\n",
              "        vertical-align: middle;\n",
              "    }\n",
              "\n",
              "    .dataframe tbody tr th {\n",
              "        vertical-align: top;\n",
              "    }\n",
              "\n",
              "    .dataframe thead th {\n",
              "        text-align: right;\n",
              "    }\n",
              "</style>\n",
              "<table border=\"1\" class=\"dataframe\">\n",
              "  <thead>\n",
              "    <tr style=\"text-align: right;\">\n",
              "      <th></th>\n",
              "      <th>Open</th>\n",
              "      <th>High</th>\n",
              "      <th>Low</th>\n",
              "      <th>Close</th>\n",
              "      <th>Volume</th>\n",
              "      <th>Change</th>\n",
              "      <th>a0k01</th>\n",
              "      <th>a0k02</th>\n",
              "      <th>a0k03</th>\n",
              "      <th>a0k04</th>\n",
              "      <th>a0k05</th>\n",
              "      <th>a0k06</th>\n",
              "      <th>a0k07</th>\n",
              "      <th>a0k08</th>\n",
              "      <th>a0k09</th>\n",
              "      <th>a0k10</th>\n",
              "      <th>a1k01</th>\n",
              "      <th>a1k02</th>\n",
              "      <th>a1k03</th>\n",
              "      <th>a1k04</th>\n",
              "      <th>a1k05</th>\n",
              "      <th>a1k06</th>\n",
              "      <th>a1k07</th>\n",
              "      <th>a1k08</th>\n",
              "      <th>a1k09</th>\n",
              "      <th>a1k10</th>\n",
              "      <th>b0k01</th>\n",
              "      <th>b0k02</th>\n",
              "      <th>b0k03</th>\n",
              "      <th>b0k04</th>\n",
              "      <th>b0k05</th>\n",
              "      <th>b0k06</th>\n",
              "      <th>b0k07</th>\n",
              "      <th>b0k08</th>\n",
              "      <th>b0k09</th>\n",
              "      <th>b0k10</th>\n",
              "      <th>tauk01</th>\n",
              "      <th>tauk02</th>\n",
              "      <th>tauk03</th>\n",
              "      <th>tauk04</th>\n",
              "      <th>tauk05</th>\n",
              "      <th>tauk06</th>\n",
              "      <th>tauk07</th>\n",
              "      <th>tauk08</th>\n",
              "      <th>tauk09</th>\n",
              "      <th>tauk10</th>\n",
              "    </tr>\n",
              "    <tr>\n",
              "      <th>Date</th>\n",
              "      <th></th>\n",
              "      <th></th>\n",
              "      <th></th>\n",
              "      <th></th>\n",
              "      <th></th>\n",
              "      <th></th>\n",
              "      <th></th>\n",
              "      <th></th>\n",
              "      <th></th>\n",
              "      <th></th>\n",
              "      <th></th>\n",
              "      <th></th>\n",
              "      <th></th>\n",
              "      <th></th>\n",
              "      <th></th>\n",
              "      <th></th>\n",
              "      <th></th>\n",
              "      <th></th>\n",
              "      <th></th>\n",
              "      <th></th>\n",
              "      <th></th>\n",
              "      <th></th>\n",
              "      <th></th>\n",
              "      <th></th>\n",
              "      <th></th>\n",
              "      <th></th>\n",
              "      <th></th>\n",
              "      <th></th>\n",
              "      <th></th>\n",
              "      <th></th>\n",
              "      <th></th>\n",
              "      <th></th>\n",
              "      <th></th>\n",
              "      <th></th>\n",
              "      <th></th>\n",
              "      <th></th>\n",
              "      <th></th>\n",
              "      <th></th>\n",
              "      <th></th>\n",
              "      <th></th>\n",
              "      <th></th>\n",
              "      <th></th>\n",
              "      <th></th>\n",
              "      <th></th>\n",
              "      <th></th>\n",
              "      <th></th>\n",
              "    </tr>\n",
              "  </thead>\n",
              "  <tbody>\n",
              "    <tr>\n",
              "      <th>2009-03-23</th>\n",
              "      <td>7850</td>\n",
              "      <td>8120</td>\n",
              "      <td>7800</td>\n",
              "      <td>8080</td>\n",
              "      <td>8344058</td>\n",
              "      <td>0.049351</td>\n",
              "      <td>-2.727038</td>\n",
              "      <td>-3.703672</td>\n",
              "      <td>-3.933671</td>\n",
              "      <td>-4.360880</td>\n",
              "      <td>-3.669309</td>\n",
              "      <td>-3.317302</td>\n",
              "      <td>-3.789300</td>\n",
              "      <td>-2.920232</td>\n",
              "      <td>-2.455292</td>\n",
              "      <td>-2.013126</td>\n",
              "      <td>0.001550</td>\n",
              "      <td>0.001828</td>\n",
              "      <td>0.002574</td>\n",
              "      <td>0.002469</td>\n",
              "      <td>0.001936</td>\n",
              "      <td>0.001605</td>\n",
              "      <td>0.001868</td>\n",
              "      <td>0.001748</td>\n",
              "      <td>0.001631</td>\n",
              "      <td>0.001319</td>\n",
              "      <td>2.984912</td>\n",
              "      <td>3.313493</td>\n",
              "      <td>4.407811</td>\n",
              "      <td>4.251816</td>\n",
              "      <td>3.896841</td>\n",
              "      <td>3.441775</td>\n",
              "      <td>3.772554</td>\n",
              "      <td>3.582601</td>\n",
              "      <td>3.674260</td>\n",
              "      <td>3.246674</td>\n",
              "      <td>1461.122</td>\n",
              "      <td>1499.507</td>\n",
              "      <td>1292.837</td>\n",
              "      <td>1329.968</td>\n",
              "      <td>1547.975</td>\n",
              "      <td>1681.609</td>\n",
              "      <td>1597.517</td>\n",
              "      <td>1526.722</td>\n",
              "      <td>1628.337</td>\n",
              "      <td>1772.121</td>\n",
              "    </tr>\n",
              "    <tr>\n",
              "      <th>2009-03-24</th>\n",
              "      <td>8240</td>\n",
              "      <td>8260</td>\n",
              "      <td>8010</td>\n",
              "      <td>8180</td>\n",
              "      <td>6652120</td>\n",
              "      <td>0.012376</td>\n",
              "      <td>-3.122411</td>\n",
              "      <td>-3.348649</td>\n",
              "      <td>-2.933583</td>\n",
              "      <td>-2.821247</td>\n",
              "      <td>-3.108235</td>\n",
              "      <td>-2.540054</td>\n",
              "      <td>-2.970022</td>\n",
              "      <td>-2.841218</td>\n",
              "      <td>-2.774238</td>\n",
              "      <td>-3.082254</td>\n",
              "      <td>0.001416</td>\n",
              "      <td>0.001648</td>\n",
              "      <td>0.001455</td>\n",
              "      <td>0.001291</td>\n",
              "      <td>0.001519</td>\n",
              "      <td>0.001233</td>\n",
              "      <td>0.001463</td>\n",
              "      <td>0.001439</td>\n",
              "      <td>0.001329</td>\n",
              "      <td>0.001453</td>\n",
              "      <td>3.726610</td>\n",
              "      <td>3.733350</td>\n",
              "      <td>3.459047</td>\n",
              "      <td>3.197817</td>\n",
              "      <td>3.748140</td>\n",
              "      <td>3.000958</td>\n",
              "      <td>3.505756</td>\n",
              "      <td>3.389110</td>\n",
              "      <td>3.433971</td>\n",
              "      <td>3.807786</td>\n",
              "      <td>2029.949</td>\n",
              "      <td>1743.483</td>\n",
              "      <td>1813.185</td>\n",
              "      <td>1923.603</td>\n",
              "      <td>1887.045</td>\n",
              "      <td>1857.774</td>\n",
              "      <td>1832.649</td>\n",
              "      <td>1788.894</td>\n",
              "      <td>1965.954</td>\n",
              "      <td>2001.118</td>\n",
              "    </tr>\n",
              "    <tr>\n",
              "      <th>2009-03-25</th>\n",
              "      <td>8120</td>\n",
              "      <td>8180</td>\n",
              "      <td>7970</td>\n",
              "      <td>8100</td>\n",
              "      <td>5107740</td>\n",
              "      <td>-0.009780</td>\n",
              "      <td>-3.880331</td>\n",
              "      <td>-4.056443</td>\n",
              "      <td>-3.193778</td>\n",
              "      <td>-3.189689</td>\n",
              "      <td>-2.891290</td>\n",
              "      <td>-2.845863</td>\n",
              "      <td>-3.229054</td>\n",
              "      <td>-2.707997</td>\n",
              "      <td>-2.366482</td>\n",
              "      <td>-2.419309</td>\n",
              "      <td>0.001894</td>\n",
              "      <td>0.002004</td>\n",
              "      <td>0.001549</td>\n",
              "      <td>0.001557</td>\n",
              "      <td>0.001381</td>\n",
              "      <td>0.001586</td>\n",
              "      <td>0.001585</td>\n",
              "      <td>0.001478</td>\n",
              "      <td>0.001334</td>\n",
              "      <td>0.001385</td>\n",
              "      <td>4.632692</td>\n",
              "      <td>4.571159</td>\n",
              "      <td>3.624464</td>\n",
              "      <td>3.840120</td>\n",
              "      <td>3.534951</td>\n",
              "      <td>3.847850</td>\n",
              "      <td>3.906032</td>\n",
              "      <td>3.480426</td>\n",
              "      <td>3.133456</td>\n",
              "      <td>3.330892</td>\n",
              "      <td>1886.318</td>\n",
              "      <td>1752.629</td>\n",
              "      <td>1803.177</td>\n",
              "      <td>1882.571</td>\n",
              "      <td>1949.354</td>\n",
              "      <td>1796.506</td>\n",
              "      <td>1879.283</td>\n",
              "      <td>1756.918</td>\n",
              "      <td>1745.643</td>\n",
              "      <td>1774.590</td>\n",
              "    </tr>\n",
              "    <tr>\n",
              "      <th>2009-03-26</th>\n",
              "      <td>8170</td>\n",
              "      <td>8480</td>\n",
              "      <td>8110</td>\n",
              "      <td>8420</td>\n",
              "      <td>13682048</td>\n",
              "      <td>0.039506</td>\n",
              "      <td>-1.300494</td>\n",
              "      <td>-1.856442</td>\n",
              "      <td>-3.267227</td>\n",
              "      <td>-2.730512</td>\n",
              "      <td>-2.687609</td>\n",
              "      <td>-3.435165</td>\n",
              "      <td>-3.552223</td>\n",
              "      <td>-3.506665</td>\n",
              "      <td>-2.362029</td>\n",
              "      <td>-2.341256</td>\n",
              "      <td>0.000936</td>\n",
              "      <td>0.001350</td>\n",
              "      <td>0.001954</td>\n",
              "      <td>0.001735</td>\n",
              "      <td>0.001793</td>\n",
              "      <td>0.002152</td>\n",
              "      <td>0.002307</td>\n",
              "      <td>0.002367</td>\n",
              "      <td>0.001762</td>\n",
              "      <td>0.001711</td>\n",
              "      <td>2.184273</td>\n",
              "      <td>2.576021</td>\n",
              "      <td>3.417829</td>\n",
              "      <td>3.402454</td>\n",
              "      <td>3.396926</td>\n",
              "      <td>3.455015</td>\n",
              "      <td>3.743746</td>\n",
              "      <td>3.993577</td>\n",
              "      <td>3.052707</td>\n",
              "      <td>3.019495</td>\n",
              "      <td>1727.351</td>\n",
              "      <td>1429.803</td>\n",
              "      <td>1353.847</td>\n",
              "      <td>1441.596</td>\n",
              "      <td>1385.083</td>\n",
              "      <td>1231.359</td>\n",
              "      <td>1213.075</td>\n",
              "      <td>1248.435</td>\n",
              "      <td>1258.803</td>\n",
              "      <td>1283.662</td>\n",
              "    </tr>\n",
              "    <tr>\n",
              "      <th>2009-03-27</th>\n",
              "      <td>8570</td>\n",
              "      <td>9070</td>\n",
              "      <td>8470</td>\n",
              "      <td>8490</td>\n",
              "      <td>16489312</td>\n",
              "      <td>0.008314</td>\n",
              "      <td>-2.174669</td>\n",
              "      <td>-1.067556</td>\n",
              "      <td>-1.521173</td>\n",
              "      <td>-1.520366</td>\n",
              "      <td>-2.777781</td>\n",
              "      <td>-1.884196</td>\n",
              "      <td>0.008117</td>\n",
              "      <td>-1.528813</td>\n",
              "      <td>-1.225869</td>\n",
              "      <td>-1.279469</td>\n",
              "      <td>0.001369</td>\n",
              "      <td>0.000632</td>\n",
              "      <td>0.000701</td>\n",
              "      <td>0.000760</td>\n",
              "      <td>0.001281</td>\n",
              "      <td>0.001095</td>\n",
              "      <td>0.000298</td>\n",
              "      <td>0.000988</td>\n",
              "      <td>0.000767</td>\n",
              "      <td>0.000762</td>\n",
              "      <td>2.176573</td>\n",
              "      <td>2.159975</td>\n",
              "      <td>2.257061</td>\n",
              "      <td>2.608248</td>\n",
              "      <td>4.072698</td>\n",
              "      <td>2.605460</td>\n",
              "      <td>1.016953</td>\n",
              "      <td>2.209636</td>\n",
              "      <td>2.228379</td>\n",
              "      <td>2.235360</td>\n",
              "      <td>1671.920</td>\n",
              "      <td>2664.374</td>\n",
              "      <td>2552.312</td>\n",
              "      <td>2545.264</td>\n",
              "      <td>2374.108</td>\n",
              "      <td>1899.040</td>\n",
              "      <td>3208.407</td>\n",
              "      <td>1663.462</td>\n",
              "      <td>2103.401</td>\n",
              "      <td>2129.005</td>\n",
              "    </tr>\n",
              "  </tbody>\n",
              "</table>\n",
              "</div>"
            ],
            "text/plain": [
              "            Open  High   Low  Close  ...    tauk07    tauk08    tauk09    tauk10\n",
              "Date                                 ...                                        \n",
              "2009-03-23  7850  8120  7800   8080  ...  1597.517  1526.722  1628.337  1772.121\n",
              "2009-03-24  8240  8260  8010   8180  ...  1832.649  1788.894  1965.954  2001.118\n",
              "2009-03-25  8120  8180  7970   8100  ...  1879.283  1756.918  1745.643  1774.590\n",
              "2009-03-26  8170  8480  8110   8420  ...  1213.075  1248.435  1258.803  1283.662\n",
              "2009-03-27  8570  9070  8470   8490  ...  3208.407  1663.462  2103.401  2129.005\n",
              "\n",
              "[5 rows x 46 columns]"
            ]
          },
          "metadata": {
            "tags": []
          },
          "execution_count": 112
        }
      ]
    },
    {
      "cell_type": "markdown",
      "metadata": {
        "id": "BbG4EvxjHlxU"
      },
      "source": [
        "# 40 featues show complex dynamics in a day (today) => predict what?\n",
        "- C1 >< O1 (Close >< Open in today)\n",
        "- C2 >< O1 (Close in the next day >< Open in today)\n",
        "- O2 >< C1 (Open in the next day >< Close in today)\n",
        "- C2 >< C1 (Close in the next day >< Close in today)\n",
        "- C2 >< O2 (Close >< Open in the next day)\n",
        "    - O2 >< O1 (Open in the next day >< Open in today)  (deleted)\n"
      ]
    },
    {
      "cell_type": "code",
      "metadata": {
        "colab": {
          "base_uri": "https://localhost:8080/",
          "height": 268
        },
        "id": "1gZYaqTa9dyy",
        "outputId": "f0e04655-9737-4a27-cf0d-5d5c93f759eb"
      },
      "source": [
        "df_kia.head(6)"
      ],
      "execution_count": 113,
      "outputs": [
        {
          "output_type": "execute_result",
          "data": {
            "text/html": [
              "<div>\n",
              "<style scoped>\n",
              "    .dataframe tbody tr th:only-of-type {\n",
              "        vertical-align: middle;\n",
              "    }\n",
              "\n",
              "    .dataframe tbody tr th {\n",
              "        vertical-align: top;\n",
              "    }\n",
              "\n",
              "    .dataframe thead th {\n",
              "        text-align: right;\n",
              "    }\n",
              "</style>\n",
              "<table border=\"1\" class=\"dataframe\">\n",
              "  <thead>\n",
              "    <tr style=\"text-align: right;\">\n",
              "      <th></th>\n",
              "      <th>Open</th>\n",
              "      <th>High</th>\n",
              "      <th>Low</th>\n",
              "      <th>Close</th>\n",
              "      <th>Volume</th>\n",
              "      <th>Change</th>\n",
              "    </tr>\n",
              "    <tr>\n",
              "      <th>Date</th>\n",
              "      <th></th>\n",
              "      <th></th>\n",
              "      <th></th>\n",
              "      <th></th>\n",
              "      <th></th>\n",
              "      <th></th>\n",
              "    </tr>\n",
              "  </thead>\n",
              "  <tbody>\n",
              "    <tr>\n",
              "      <th>2009-03-23</th>\n",
              "      <td>7850</td>\n",
              "      <td>8120</td>\n",
              "      <td>7800</td>\n",
              "      <td>8080</td>\n",
              "      <td>8344058</td>\n",
              "      <td>0.049351</td>\n",
              "    </tr>\n",
              "    <tr>\n",
              "      <th>2009-03-24</th>\n",
              "      <td>8240</td>\n",
              "      <td>8260</td>\n",
              "      <td>8010</td>\n",
              "      <td>8180</td>\n",
              "      <td>6652120</td>\n",
              "      <td>0.012376</td>\n",
              "    </tr>\n",
              "    <tr>\n",
              "      <th>2009-03-25</th>\n",
              "      <td>8120</td>\n",
              "      <td>8180</td>\n",
              "      <td>7970</td>\n",
              "      <td>8100</td>\n",
              "      <td>5107740</td>\n",
              "      <td>-0.009780</td>\n",
              "    </tr>\n",
              "    <tr>\n",
              "      <th>2009-03-26</th>\n",
              "      <td>8170</td>\n",
              "      <td>8480</td>\n",
              "      <td>8110</td>\n",
              "      <td>8420</td>\n",
              "      <td>13682048</td>\n",
              "      <td>0.039506</td>\n",
              "    </tr>\n",
              "    <tr>\n",
              "      <th>2009-03-27</th>\n",
              "      <td>8570</td>\n",
              "      <td>9070</td>\n",
              "      <td>8470</td>\n",
              "      <td>8490</td>\n",
              "      <td>16489312</td>\n",
              "      <td>0.008314</td>\n",
              "    </tr>\n",
              "    <tr>\n",
              "      <th>2009-03-30</th>\n",
              "      <td>8570</td>\n",
              "      <td>8720</td>\n",
              "      <td>7900</td>\n",
              "      <td>8050</td>\n",
              "      <td>9338571</td>\n",
              "      <td>-0.051826</td>\n",
              "    </tr>\n",
              "  </tbody>\n",
              "</table>\n",
              "</div>"
            ],
            "text/plain": [
              "            Open  High   Low  Close    Volume    Change\n",
              "Date                                                   \n",
              "2009-03-23  7850  8120  7800   8080   8344058  0.049351\n",
              "2009-03-24  8240  8260  8010   8180   6652120  0.012376\n",
              "2009-03-25  8120  8180  7970   8100   5107740 -0.009780\n",
              "2009-03-26  8170  8480  8110   8420  13682048  0.039506\n",
              "2009-03-27  8570  9070  8470   8490  16489312  0.008314\n",
              "2009-03-30  8570  8720  7900   8050   9338571 -0.051826"
            ]
          },
          "metadata": {
            "tags": []
          },
          "execution_count": 113
        }
      ]
    },
    {
      "cell_type": "code",
      "metadata": {
        "colab": {
          "base_uri": "https://localhost:8080/"
        },
        "id": "s18fZtL1Hs6r",
        "outputId": "ac9c1cf4-7937-46bd-8bdd-a85889d50db0"
      },
      "source": [
        "c2c1 = [0 if change < 0 else 1 for change in df_kia['Change']]\n",
        "print(c2c1[:5], len(c2c1))\n",
        "c1o1 = [0 if change <= 0 else 1 for change in df_kia['Close']-df_kia['Open']]\n",
        "print(c1o1[:5], len(c1o1))"
      ],
      "execution_count": 114,
      "outputs": [
        {
          "output_type": "stream",
          "text": [
            "[1, 1, 0, 1, 1] 2276\n",
            "[1, 0, 0, 1, 0] 2276\n"
          ],
          "name": "stdout"
        }
      ]
    },
    {
      "cell_type": "code",
      "metadata": {
        "colab": {
          "base_uri": "https://localhost:8080/"
        },
        "id": "X7iuB0RzSm20",
        "outputId": "6a0511b0-b7f9-41b7-ef72-d31ceb7cb0f4"
      },
      "source": [
        "symbol = '000270' # KIA Car\n",
        "sdate = '2009-03-23' \n",
        "edate = '2018-05-31' # 2277 = 2276 + 1(the next day)\n",
        "df_kia0 = fdr.DataReader(symbol,sdate,edate)\n",
        "df_kia0.shape"
      ],
      "execution_count": 115,
      "outputs": [
        {
          "output_type": "execute_result",
          "data": {
            "text/plain": [
              "(2277, 6)"
            ]
          },
          "metadata": {
            "tags": []
          },
          "execution_count": 115
        }
      ]
    },
    {
      "cell_type": "code",
      "metadata": {
        "colab": {
          "base_uri": "https://localhost:8080/"
        },
        "id": "OcTXiPq_YNAY",
        "outputId": "62e3e587-c85c-45a4-e60d-4f5856eb595e"
      },
      "source": [
        "c1o1 = [0 if change <= 0 else 1 for change in df_kia['Close'].values-df_kia['Open'].values]\n",
        "print(c1o1[:5], len(c1o1))"
      ],
      "execution_count": 116,
      "outputs": [
        {
          "output_type": "stream",
          "text": [
            "[1, 0, 0, 1, 0] 2276\n"
          ],
          "name": "stdout"
        }
      ]
    },
    {
      "cell_type": "code",
      "metadata": {
        "colab": {
          "base_uri": "https://localhost:8080/"
        },
        "id": "eCglw5EGoetl",
        "outputId": "3389eaa5-6805-4c2c-a39e-73172d7de0d6"
      },
      "source": [
        "df_kia0['Close'].values[1:].shape"
      ],
      "execution_count": 117,
      "outputs": [
        {
          "output_type": "execute_result",
          "data": {
            "text/plain": [
              "(2276,)"
            ]
          },
          "metadata": {
            "tags": []
          },
          "execution_count": 117
        }
      ]
    },
    {
      "cell_type": "code",
      "metadata": {
        "colab": {
          "base_uri": "https://localhost:8080/"
        },
        "id": "mSsOXASbn5fc",
        "outputId": "6a751317-596a-478d-a073-fab03f13ef0b"
      },
      "source": [
        "c2o1 = [0 if change <= 0 else 1 for change in (df_kia0['Close'].values[1:]-df_kia['Open'].values)]\n",
        "print(c2o1[:5], len(c2o1))"
      ],
      "execution_count": 118,
      "outputs": [
        {
          "output_type": "stream",
          "text": [
            "[1, 0, 1, 1, 0] 2276\n"
          ],
          "name": "stdout"
        }
      ]
    },
    {
      "cell_type": "code",
      "metadata": {
        "colab": {
          "base_uri": "https://localhost:8080/"
        },
        "id": "-HkjYykioJxb",
        "outputId": "143fc8af-4af0-49b4-ec24-98199f487480"
      },
      "source": [
        "o2c1 = [0 if change <= 0 else 1 for change in (df_kia0['Open'].values[1:]-df_kia['Close'].values)]\n",
        "print(o2c1[:5], len(o2c1))"
      ],
      "execution_count": 119,
      "outputs": [
        {
          "output_type": "stream",
          "text": [
            "[1, 0, 1, 1, 1] 2276\n"
          ],
          "name": "stdout"
        }
      ]
    },
    {
      "cell_type": "code",
      "metadata": {
        "colab": {
          "base_uri": "https://localhost:8080/"
        },
        "id": "Jf_i3R53pTlZ",
        "outputId": "ebd7949b-53ff-4c81-f786-8c3579e72d33"
      },
      "source": [
        "c2c1 = [0 if change <= 0 else 1 for change in (df_kia0['Close'].values[1:]-df_kia['Close'].values)]\n",
        "print(c2c1[:5], len(c2c1))"
      ],
      "execution_count": 120,
      "outputs": [
        {
          "output_type": "stream",
          "text": [
            "[1, 0, 1, 1, 0] 2276\n"
          ],
          "name": "stdout"
        }
      ]
    },
    {
      "cell_type": "code",
      "metadata": {
        "colab": {
          "base_uri": "https://localhost:8080/"
        },
        "id": "CvuxQ-aVpfxj",
        "outputId": "5ba21e2a-0b8c-47fe-c33a-787691cf575e"
      },
      "source": [
        "c2o2 = [0 if change <= 0 else 1 for change in (df_kia0['Close'].values[1:]-df_kia0['Open'].values[1:])]\n",
        "print(c2o2[:5], len(c2o2))"
      ],
      "execution_count": 121,
      "outputs": [
        {
          "output_type": "stream",
          "text": [
            "[0, 0, 1, 0, 0] 2276\n"
          ],
          "name": "stdout"
        }
      ]
    },
    {
      "cell_type": "code",
      "metadata": {
        "colab": {
          "base_uri": "https://localhost:8080/"
        },
        "id": "MOZQAQA1qRO-",
        "outputId": "dffaa856-91aa-4fb9-f491-834e17d0f29a"
      },
      "source": [
        "type(c2o2)"
      ],
      "execution_count": 122,
      "outputs": [
        {
          "output_type": "execute_result",
          "data": {
            "text/plain": [
              "list"
            ]
          },
          "metadata": {
            "tags": []
          },
          "execution_count": 122
        }
      ]
    },
    {
      "cell_type": "code",
      "metadata": {
        "colab": {
          "base_uri": "https://localhost:8080/"
        },
        "id": "N8lEYT19vowJ",
        "outputId": "c450b409-6b73-4c6a-f0e6-76d864e26db9"
      },
      "source": [
        "targets = np.array([c1o1,c2o1,o2c1,c2c1,c2o2]).T\n",
        "targets.shape"
      ],
      "execution_count": 123,
      "outputs": [
        {
          "output_type": "execute_result",
          "data": {
            "text/plain": [
              "(2276, 5)"
            ]
          },
          "metadata": {
            "tags": []
          },
          "execution_count": 123
        }
      ]
    },
    {
      "cell_type": "code",
      "metadata": {
        "colab": {
          "base_uri": "https://localhost:8080/"
        },
        "id": "PW_w6COUv4-X",
        "outputId": "f428c026-aec0-4846-aa9e-ed75db0ccfd5"
      },
      "source": [
        "targets[:10]"
      ],
      "execution_count": 124,
      "outputs": [
        {
          "output_type": "execute_result",
          "data": {
            "text/plain": [
              "array([[1, 1, 1, 1, 0],\n",
              "       [0, 0, 0, 0, 0],\n",
              "       [0, 1, 1, 1, 1],\n",
              "       [1, 1, 1, 1, 0],\n",
              "       [0, 0, 1, 0, 0],\n",
              "       [0, 0, 1, 1, 1],\n",
              "       [1, 1, 1, 1, 1],\n",
              "       [1, 1, 1, 1, 0],\n",
              "       [0, 1, 1, 1, 1],\n",
              "       [1, 0, 1, 0, 0]])"
            ]
          },
          "metadata": {
            "tags": []
          },
          "execution_count": 124
        }
      ]
    },
    {
      "cell_type": "code",
      "metadata": {
        "colab": {
          "base_uri": "https://localhost:8080/"
        },
        "id": "CUqaW_hWugLU",
        "outputId": "c14ecc68-12b4-4d85-9c5c-0b2eec693a05"
      },
      "source": [
        "# Arrangement of targets\n",
        "target_columns = ['C1O1','C2O1','O2C1','C2C1','C2O2']\n",
        "targets_array = np.array([c1o1,c2o1,o2c1,c2c1,c2o2]).T\n",
        "targets_array.shape"
      ],
      "execution_count": 125,
      "outputs": [
        {
          "output_type": "execute_result",
          "data": {
            "text/plain": [
              "(2276, 5)"
            ]
          },
          "metadata": {
            "tags": []
          },
          "execution_count": 125
        }
      ]
    },
    {
      "cell_type": "code",
      "metadata": {
        "colab": {
          "base_uri": "https://localhost:8080/"
        },
        "id": "vUu_VDkPuEaX",
        "outputId": "445a7e4e-18f0-44c6-e294-427768db403a"
      },
      "source": [
        "df_kia3 = pd.concat([df_kia2, pd.DataFrame(targets_array,index=df_kia2.index, columns=target_columns)], axis=1)\n",
        "df_kia3.shape"
      ],
      "execution_count": 126,
      "outputs": [
        {
          "output_type": "execute_result",
          "data": {
            "text/plain": [
              "(2276, 51)"
            ]
          },
          "metadata": {
            "tags": []
          },
          "execution_count": 126
        }
      ]
    },
    {
      "cell_type": "code",
      "metadata": {
        "colab": {
          "base_uri": "https://localhost:8080/",
          "height": 343
        },
        "id": "uhUarAoCyGws",
        "outputId": "b84c46cf-ba8d-4c43-be77-ae05a4034254"
      },
      "source": [
        "df_kia3.head()"
      ],
      "execution_count": 127,
      "outputs": [
        {
          "output_type": "execute_result",
          "data": {
            "text/html": [
              "<div>\n",
              "<style scoped>\n",
              "    .dataframe tbody tr th:only-of-type {\n",
              "        vertical-align: middle;\n",
              "    }\n",
              "\n",
              "    .dataframe tbody tr th {\n",
              "        vertical-align: top;\n",
              "    }\n",
              "\n",
              "    .dataframe thead th {\n",
              "        text-align: right;\n",
              "    }\n",
              "</style>\n",
              "<table border=\"1\" class=\"dataframe\">\n",
              "  <thead>\n",
              "    <tr style=\"text-align: right;\">\n",
              "      <th></th>\n",
              "      <th>Open</th>\n",
              "      <th>High</th>\n",
              "      <th>Low</th>\n",
              "      <th>Close</th>\n",
              "      <th>Volume</th>\n",
              "      <th>Change</th>\n",
              "      <th>a0k01</th>\n",
              "      <th>a0k02</th>\n",
              "      <th>a0k03</th>\n",
              "      <th>a0k04</th>\n",
              "      <th>a0k05</th>\n",
              "      <th>a0k06</th>\n",
              "      <th>a0k07</th>\n",
              "      <th>a0k08</th>\n",
              "      <th>a0k09</th>\n",
              "      <th>a0k10</th>\n",
              "      <th>a1k01</th>\n",
              "      <th>a1k02</th>\n",
              "      <th>a1k03</th>\n",
              "      <th>a1k04</th>\n",
              "      <th>a1k05</th>\n",
              "      <th>a1k06</th>\n",
              "      <th>a1k07</th>\n",
              "      <th>a1k08</th>\n",
              "      <th>a1k09</th>\n",
              "      <th>a1k10</th>\n",
              "      <th>b0k01</th>\n",
              "      <th>b0k02</th>\n",
              "      <th>b0k03</th>\n",
              "      <th>b0k04</th>\n",
              "      <th>b0k05</th>\n",
              "      <th>b0k06</th>\n",
              "      <th>b0k07</th>\n",
              "      <th>b0k08</th>\n",
              "      <th>b0k09</th>\n",
              "      <th>b0k10</th>\n",
              "      <th>tauk01</th>\n",
              "      <th>tauk02</th>\n",
              "      <th>tauk03</th>\n",
              "      <th>tauk04</th>\n",
              "      <th>tauk05</th>\n",
              "      <th>tauk06</th>\n",
              "      <th>tauk07</th>\n",
              "      <th>tauk08</th>\n",
              "      <th>tauk09</th>\n",
              "      <th>tauk10</th>\n",
              "      <th>C1O1</th>\n",
              "      <th>C2O1</th>\n",
              "      <th>O2C1</th>\n",
              "      <th>C2C1</th>\n",
              "      <th>C2O2</th>\n",
              "    </tr>\n",
              "    <tr>\n",
              "      <th>Date</th>\n",
              "      <th></th>\n",
              "      <th></th>\n",
              "      <th></th>\n",
              "      <th></th>\n",
              "      <th></th>\n",
              "      <th></th>\n",
              "      <th></th>\n",
              "      <th></th>\n",
              "      <th></th>\n",
              "      <th></th>\n",
              "      <th></th>\n",
              "      <th></th>\n",
              "      <th></th>\n",
              "      <th></th>\n",
              "      <th></th>\n",
              "      <th></th>\n",
              "      <th></th>\n",
              "      <th></th>\n",
              "      <th></th>\n",
              "      <th></th>\n",
              "      <th></th>\n",
              "      <th></th>\n",
              "      <th></th>\n",
              "      <th></th>\n",
              "      <th></th>\n",
              "      <th></th>\n",
              "      <th></th>\n",
              "      <th></th>\n",
              "      <th></th>\n",
              "      <th></th>\n",
              "      <th></th>\n",
              "      <th></th>\n",
              "      <th></th>\n",
              "      <th></th>\n",
              "      <th></th>\n",
              "      <th></th>\n",
              "      <th></th>\n",
              "      <th></th>\n",
              "      <th></th>\n",
              "      <th></th>\n",
              "      <th></th>\n",
              "      <th></th>\n",
              "      <th></th>\n",
              "      <th></th>\n",
              "      <th></th>\n",
              "      <th></th>\n",
              "      <th></th>\n",
              "      <th></th>\n",
              "      <th></th>\n",
              "      <th></th>\n",
              "      <th></th>\n",
              "    </tr>\n",
              "  </thead>\n",
              "  <tbody>\n",
              "    <tr>\n",
              "      <th>2009-03-23</th>\n",
              "      <td>7850</td>\n",
              "      <td>8120</td>\n",
              "      <td>7800</td>\n",
              "      <td>8080</td>\n",
              "      <td>8344058</td>\n",
              "      <td>0.049351</td>\n",
              "      <td>-2.727038</td>\n",
              "      <td>-3.703672</td>\n",
              "      <td>-3.933671</td>\n",
              "      <td>-4.360880</td>\n",
              "      <td>-3.669309</td>\n",
              "      <td>-3.317302</td>\n",
              "      <td>-3.789300</td>\n",
              "      <td>-2.920232</td>\n",
              "      <td>-2.455292</td>\n",
              "      <td>-2.013126</td>\n",
              "      <td>0.001550</td>\n",
              "      <td>0.001828</td>\n",
              "      <td>0.002574</td>\n",
              "      <td>0.002469</td>\n",
              "      <td>0.001936</td>\n",
              "      <td>0.001605</td>\n",
              "      <td>0.001868</td>\n",
              "      <td>0.001748</td>\n",
              "      <td>0.001631</td>\n",
              "      <td>0.001319</td>\n",
              "      <td>2.984912</td>\n",
              "      <td>3.313493</td>\n",
              "      <td>4.407811</td>\n",
              "      <td>4.251816</td>\n",
              "      <td>3.896841</td>\n",
              "      <td>3.441775</td>\n",
              "      <td>3.772554</td>\n",
              "      <td>3.582601</td>\n",
              "      <td>3.674260</td>\n",
              "      <td>3.246674</td>\n",
              "      <td>1461.122</td>\n",
              "      <td>1499.507</td>\n",
              "      <td>1292.837</td>\n",
              "      <td>1329.968</td>\n",
              "      <td>1547.975</td>\n",
              "      <td>1681.609</td>\n",
              "      <td>1597.517</td>\n",
              "      <td>1526.722</td>\n",
              "      <td>1628.337</td>\n",
              "      <td>1772.121</td>\n",
              "      <td>1</td>\n",
              "      <td>1</td>\n",
              "      <td>1</td>\n",
              "      <td>1</td>\n",
              "      <td>0</td>\n",
              "    </tr>\n",
              "    <tr>\n",
              "      <th>2009-03-24</th>\n",
              "      <td>8240</td>\n",
              "      <td>8260</td>\n",
              "      <td>8010</td>\n",
              "      <td>8180</td>\n",
              "      <td>6652120</td>\n",
              "      <td>0.012376</td>\n",
              "      <td>-3.122411</td>\n",
              "      <td>-3.348649</td>\n",
              "      <td>-2.933583</td>\n",
              "      <td>-2.821247</td>\n",
              "      <td>-3.108235</td>\n",
              "      <td>-2.540054</td>\n",
              "      <td>-2.970022</td>\n",
              "      <td>-2.841218</td>\n",
              "      <td>-2.774238</td>\n",
              "      <td>-3.082254</td>\n",
              "      <td>0.001416</td>\n",
              "      <td>0.001648</td>\n",
              "      <td>0.001455</td>\n",
              "      <td>0.001291</td>\n",
              "      <td>0.001519</td>\n",
              "      <td>0.001233</td>\n",
              "      <td>0.001463</td>\n",
              "      <td>0.001439</td>\n",
              "      <td>0.001329</td>\n",
              "      <td>0.001453</td>\n",
              "      <td>3.726610</td>\n",
              "      <td>3.733350</td>\n",
              "      <td>3.459047</td>\n",
              "      <td>3.197817</td>\n",
              "      <td>3.748140</td>\n",
              "      <td>3.000958</td>\n",
              "      <td>3.505756</td>\n",
              "      <td>3.389110</td>\n",
              "      <td>3.433971</td>\n",
              "      <td>3.807786</td>\n",
              "      <td>2029.949</td>\n",
              "      <td>1743.483</td>\n",
              "      <td>1813.185</td>\n",
              "      <td>1923.603</td>\n",
              "      <td>1887.045</td>\n",
              "      <td>1857.774</td>\n",
              "      <td>1832.649</td>\n",
              "      <td>1788.894</td>\n",
              "      <td>1965.954</td>\n",
              "      <td>2001.118</td>\n",
              "      <td>0</td>\n",
              "      <td>0</td>\n",
              "      <td>0</td>\n",
              "      <td>0</td>\n",
              "      <td>0</td>\n",
              "    </tr>\n",
              "    <tr>\n",
              "      <th>2009-03-25</th>\n",
              "      <td>8120</td>\n",
              "      <td>8180</td>\n",
              "      <td>7970</td>\n",
              "      <td>8100</td>\n",
              "      <td>5107740</td>\n",
              "      <td>-0.009780</td>\n",
              "      <td>-3.880331</td>\n",
              "      <td>-4.056443</td>\n",
              "      <td>-3.193778</td>\n",
              "      <td>-3.189689</td>\n",
              "      <td>-2.891290</td>\n",
              "      <td>-2.845863</td>\n",
              "      <td>-3.229054</td>\n",
              "      <td>-2.707997</td>\n",
              "      <td>-2.366482</td>\n",
              "      <td>-2.419309</td>\n",
              "      <td>0.001894</td>\n",
              "      <td>0.002004</td>\n",
              "      <td>0.001549</td>\n",
              "      <td>0.001557</td>\n",
              "      <td>0.001381</td>\n",
              "      <td>0.001586</td>\n",
              "      <td>0.001585</td>\n",
              "      <td>0.001478</td>\n",
              "      <td>0.001334</td>\n",
              "      <td>0.001385</td>\n",
              "      <td>4.632692</td>\n",
              "      <td>4.571159</td>\n",
              "      <td>3.624464</td>\n",
              "      <td>3.840120</td>\n",
              "      <td>3.534951</td>\n",
              "      <td>3.847850</td>\n",
              "      <td>3.906032</td>\n",
              "      <td>3.480426</td>\n",
              "      <td>3.133456</td>\n",
              "      <td>3.330892</td>\n",
              "      <td>1886.318</td>\n",
              "      <td>1752.629</td>\n",
              "      <td>1803.177</td>\n",
              "      <td>1882.571</td>\n",
              "      <td>1949.354</td>\n",
              "      <td>1796.506</td>\n",
              "      <td>1879.283</td>\n",
              "      <td>1756.918</td>\n",
              "      <td>1745.643</td>\n",
              "      <td>1774.590</td>\n",
              "      <td>0</td>\n",
              "      <td>1</td>\n",
              "      <td>1</td>\n",
              "      <td>1</td>\n",
              "      <td>1</td>\n",
              "    </tr>\n",
              "    <tr>\n",
              "      <th>2009-03-26</th>\n",
              "      <td>8170</td>\n",
              "      <td>8480</td>\n",
              "      <td>8110</td>\n",
              "      <td>8420</td>\n",
              "      <td>13682048</td>\n",
              "      <td>0.039506</td>\n",
              "      <td>-1.300494</td>\n",
              "      <td>-1.856442</td>\n",
              "      <td>-3.267227</td>\n",
              "      <td>-2.730512</td>\n",
              "      <td>-2.687609</td>\n",
              "      <td>-3.435165</td>\n",
              "      <td>-3.552223</td>\n",
              "      <td>-3.506665</td>\n",
              "      <td>-2.362029</td>\n",
              "      <td>-2.341256</td>\n",
              "      <td>0.000936</td>\n",
              "      <td>0.001350</td>\n",
              "      <td>0.001954</td>\n",
              "      <td>0.001735</td>\n",
              "      <td>0.001793</td>\n",
              "      <td>0.002152</td>\n",
              "      <td>0.002307</td>\n",
              "      <td>0.002367</td>\n",
              "      <td>0.001762</td>\n",
              "      <td>0.001711</td>\n",
              "      <td>2.184273</td>\n",
              "      <td>2.576021</td>\n",
              "      <td>3.417829</td>\n",
              "      <td>3.402454</td>\n",
              "      <td>3.396926</td>\n",
              "      <td>3.455015</td>\n",
              "      <td>3.743746</td>\n",
              "      <td>3.993577</td>\n",
              "      <td>3.052707</td>\n",
              "      <td>3.019495</td>\n",
              "      <td>1727.351</td>\n",
              "      <td>1429.803</td>\n",
              "      <td>1353.847</td>\n",
              "      <td>1441.596</td>\n",
              "      <td>1385.083</td>\n",
              "      <td>1231.359</td>\n",
              "      <td>1213.075</td>\n",
              "      <td>1248.435</td>\n",
              "      <td>1258.803</td>\n",
              "      <td>1283.662</td>\n",
              "      <td>1</td>\n",
              "      <td>1</td>\n",
              "      <td>1</td>\n",
              "      <td>1</td>\n",
              "      <td>0</td>\n",
              "    </tr>\n",
              "    <tr>\n",
              "      <th>2009-03-27</th>\n",
              "      <td>8570</td>\n",
              "      <td>9070</td>\n",
              "      <td>8470</td>\n",
              "      <td>8490</td>\n",
              "      <td>16489312</td>\n",
              "      <td>0.008314</td>\n",
              "      <td>-2.174669</td>\n",
              "      <td>-1.067556</td>\n",
              "      <td>-1.521173</td>\n",
              "      <td>-1.520366</td>\n",
              "      <td>-2.777781</td>\n",
              "      <td>-1.884196</td>\n",
              "      <td>0.008117</td>\n",
              "      <td>-1.528813</td>\n",
              "      <td>-1.225869</td>\n",
              "      <td>-1.279469</td>\n",
              "      <td>0.001369</td>\n",
              "      <td>0.000632</td>\n",
              "      <td>0.000701</td>\n",
              "      <td>0.000760</td>\n",
              "      <td>0.001281</td>\n",
              "      <td>0.001095</td>\n",
              "      <td>0.000298</td>\n",
              "      <td>0.000988</td>\n",
              "      <td>0.000767</td>\n",
              "      <td>0.000762</td>\n",
              "      <td>2.176573</td>\n",
              "      <td>2.159975</td>\n",
              "      <td>2.257061</td>\n",
              "      <td>2.608248</td>\n",
              "      <td>4.072698</td>\n",
              "      <td>2.605460</td>\n",
              "      <td>1.016953</td>\n",
              "      <td>2.209636</td>\n",
              "      <td>2.228379</td>\n",
              "      <td>2.235360</td>\n",
              "      <td>1671.920</td>\n",
              "      <td>2664.374</td>\n",
              "      <td>2552.312</td>\n",
              "      <td>2545.264</td>\n",
              "      <td>2374.108</td>\n",
              "      <td>1899.040</td>\n",
              "      <td>3208.407</td>\n",
              "      <td>1663.462</td>\n",
              "      <td>2103.401</td>\n",
              "      <td>2129.005</td>\n",
              "      <td>0</td>\n",
              "      <td>0</td>\n",
              "      <td>1</td>\n",
              "      <td>0</td>\n",
              "      <td>0</td>\n",
              "    </tr>\n",
              "  </tbody>\n",
              "</table>\n",
              "</div>"
            ],
            "text/plain": [
              "            Open  High   Low  Close    Volume  ...  C1O1  C2O1  O2C1  C2C1  C2O2\n",
              "Date                                           ...                              \n",
              "2009-03-23  7850  8120  7800   8080   8344058  ...     1     1     1     1     0\n",
              "2009-03-24  8240  8260  8010   8180   6652120  ...     0     0     0     0     0\n",
              "2009-03-25  8120  8180  7970   8100   5107740  ...     0     1     1     1     1\n",
              "2009-03-26  8170  8480  8110   8420  13682048  ...     1     1     1     1     0\n",
              "2009-03-27  8570  9070  8470   8490  16489312  ...     0     0     1     0     0\n",
              "\n",
              "[5 rows x 51 columns]"
            ]
          },
          "metadata": {
            "tags": []
          },
          "execution_count": 127
        }
      ]
    },
    {
      "cell_type": "markdown",
      "metadata": {
        "id": "GJ-IEYiFyULh"
      },
      "source": [
        "## Features and targets are completely composed."
      ]
    },
    {
      "cell_type": "code",
      "metadata": {
        "id": "KA5ymaoEyKGu"
      },
      "source": [
        "# Save data with features and targets in csv file\n",
        "# df_kia2.to_csv('kia_features.csv') #, index=None)\n",
        "# df_kia3.to_csv('kia_features_targets.csv') #, index=None)"
      ],
      "execution_count": 128,
      "outputs": []
    },
    {
      "cell_type": "markdown",
      "metadata": {
        "id": "PB00Blzl3nFO"
      },
      "source": [
        "## Check data with features and targets"
      ]
    },
    {
      "cell_type": "code",
      "metadata": {
        "colab": {
          "base_uri": "https://localhost:8080/"
        },
        "id": "W0v3jtqe0aCg",
        "outputId": "0961c624-0f3a-4625-9824-214d30ae85bd"
      },
      "source": [
        "df_kia3.info()"
      ],
      "execution_count": 129,
      "outputs": [
        {
          "output_type": "stream",
          "text": [
            "<class 'pandas.core.frame.DataFrame'>\n",
            "DatetimeIndex: 2276 entries, 2009-03-23 to 2018-05-30\n",
            "Data columns (total 51 columns):\n",
            " #   Column  Non-Null Count  Dtype  \n",
            "---  ------  --------------  -----  \n",
            " 0   Open    2276 non-null   int64  \n",
            " 1   High    2276 non-null   int64  \n",
            " 2   Low     2276 non-null   int64  \n",
            " 3   Close   2276 non-null   int64  \n",
            " 4   Volume  2276 non-null   int64  \n",
            " 5   Change  2276 non-null   float64\n",
            " 6   a0k01   2276 non-null   float64\n",
            " 7   a0k02   2276 non-null   float64\n",
            " 8   a0k03   2276 non-null   float64\n",
            " 9   a0k04   2276 non-null   float64\n",
            " 10  a0k05   2276 non-null   float64\n",
            " 11  a0k06   2276 non-null   float64\n",
            " 12  a0k07   2276 non-null   float64\n",
            " 13  a0k08   2276 non-null   float64\n",
            " 14  a0k09   2276 non-null   float64\n",
            " 15  a0k10   2276 non-null   float64\n",
            " 16  a1k01   2276 non-null   float64\n",
            " 17  a1k02   2276 non-null   float64\n",
            " 18  a1k03   2276 non-null   float64\n",
            " 19  a1k04   2276 non-null   float64\n",
            " 20  a1k05   2276 non-null   float64\n",
            " 21  a1k06   2276 non-null   float64\n",
            " 22  a1k07   2276 non-null   float64\n",
            " 23  a1k08   2276 non-null   float64\n",
            " 24  a1k09   2276 non-null   float64\n",
            " 25  a1k10   2276 non-null   float64\n",
            " 26  b0k01   2276 non-null   float64\n",
            " 27  b0k02   2276 non-null   float64\n",
            " 28  b0k03   2276 non-null   float64\n",
            " 29  b0k04   2276 non-null   float64\n",
            " 30  b0k05   2276 non-null   float64\n",
            " 31  b0k06   2276 non-null   float64\n",
            " 32  b0k07   2276 non-null   float64\n",
            " 33  b0k08   2276 non-null   float64\n",
            " 34  b0k09   2276 non-null   float64\n",
            " 35  b0k10   2276 non-null   float64\n",
            " 36  tauk01  2276 non-null   float64\n",
            " 37  tauk02  2276 non-null   float64\n",
            " 38  tauk03  2276 non-null   float64\n",
            " 39  tauk04  2276 non-null   float64\n",
            " 40  tauk05  2276 non-null   float64\n",
            " 41  tauk06  2276 non-null   float64\n",
            " 42  tauk07  2276 non-null   float64\n",
            " 43  tauk08  2276 non-null   float64\n",
            " 44  tauk09  2276 non-null   float64\n",
            " 45  tauk10  2276 non-null   float64\n",
            " 46  C1O1    2276 non-null   int64  \n",
            " 47  C2O1    2276 non-null   int64  \n",
            " 48  O2C1    2276 non-null   int64  \n",
            " 49  C2C1    2276 non-null   int64  \n",
            " 50  C2O2    2276 non-null   int64  \n",
            "dtypes: float64(41), int64(10)\n",
            "memory usage: 924.6 KB\n"
          ],
          "name": "stdout"
        }
      ]
    },
    {
      "cell_type": "code",
      "metadata": {
        "colab": {
          "base_uri": "https://localhost:8080/"
        },
        "id": "ZRBfNPpi3u0k",
        "outputId": "8fe3fd54-612b-4d2c-aee6-24f002a21d21"
      },
      "source": [
        "df_features=df_kia3.iloc[:,6:46]\n",
        "df_features.shape"
      ],
      "execution_count": 130,
      "outputs": [
        {
          "output_type": "execute_result",
          "data": {
            "text/plain": [
              "(2276, 40)"
            ]
          },
          "metadata": {
            "tags": []
          },
          "execution_count": 130
        }
      ]
    },
    {
      "cell_type": "code",
      "metadata": {
        "colab": {
          "base_uri": "https://localhost:8080/"
        },
        "id": "CSc6boxV4Am6",
        "outputId": "6e8bd52e-38ef-48b6-80d3-92cbba3b331a"
      },
      "source": [
        "(df_features==0).astype(int).sum()"
      ],
      "execution_count": 131,
      "outputs": [
        {
          "output_type": "execute_result",
          "data": {
            "text/plain": [
              "a0k01     25\n",
              "a0k02      7\n",
              "a0k03      4\n",
              "a0k04      9\n",
              "a0k05      1\n",
              "a0k06      1\n",
              "a0k07      4\n",
              "a0k08      4\n",
              "a0k09      4\n",
              "a0k10      3\n",
              "a1k01     25\n",
              "a1k02      7\n",
              "a1k03      4\n",
              "a1k04      9\n",
              "a1k05      1\n",
              "a1k06      1\n",
              "a1k07      4\n",
              "a1k08      4\n",
              "a1k09      4\n",
              "a1k10      3\n",
              "b0k01     25\n",
              "b0k02      7\n",
              "b0k03      4\n",
              "b0k04      9\n",
              "b0k05      1\n",
              "b0k06      1\n",
              "b0k07      4\n",
              "b0k08      4\n",
              "b0k09      4\n",
              "b0k10      3\n",
              "tauk01    25\n",
              "tauk02     7\n",
              "tauk03     4\n",
              "tauk04     9\n",
              "tauk05     1\n",
              "tauk06     1\n",
              "tauk07     4\n",
              "tauk08     4\n",
              "tauk09     4\n",
              "tauk10     3\n",
              "dtype: int64"
            ]
          },
          "metadata": {
            "tags": []
          },
          "execution_count": 131
        }
      ]
    },
    {
      "cell_type": "code",
      "metadata": {
        "colab": {
          "base_uri": "https://localhost:8080/",
          "height": 246
        },
        "id": "91ju4JXH6iu8",
        "outputId": "75febe9f-c0f4-4af8-c660-de6905236965"
      },
      "source": [
        "df_features[:3]"
      ],
      "execution_count": 132,
      "outputs": [
        {
          "output_type": "execute_result",
          "data": {
            "text/html": [
              "<div>\n",
              "<style scoped>\n",
              "    .dataframe tbody tr th:only-of-type {\n",
              "        vertical-align: middle;\n",
              "    }\n",
              "\n",
              "    .dataframe tbody tr th {\n",
              "        vertical-align: top;\n",
              "    }\n",
              "\n",
              "    .dataframe thead th {\n",
              "        text-align: right;\n",
              "    }\n",
              "</style>\n",
              "<table border=\"1\" class=\"dataframe\">\n",
              "  <thead>\n",
              "    <tr style=\"text-align: right;\">\n",
              "      <th></th>\n",
              "      <th>a0k01</th>\n",
              "      <th>a0k02</th>\n",
              "      <th>a0k03</th>\n",
              "      <th>a0k04</th>\n",
              "      <th>a0k05</th>\n",
              "      <th>a0k06</th>\n",
              "      <th>a0k07</th>\n",
              "      <th>a0k08</th>\n",
              "      <th>a0k09</th>\n",
              "      <th>a0k10</th>\n",
              "      <th>a1k01</th>\n",
              "      <th>a1k02</th>\n",
              "      <th>a1k03</th>\n",
              "      <th>a1k04</th>\n",
              "      <th>a1k05</th>\n",
              "      <th>a1k06</th>\n",
              "      <th>a1k07</th>\n",
              "      <th>a1k08</th>\n",
              "      <th>a1k09</th>\n",
              "      <th>a1k10</th>\n",
              "      <th>b0k01</th>\n",
              "      <th>b0k02</th>\n",
              "      <th>b0k03</th>\n",
              "      <th>b0k04</th>\n",
              "      <th>b0k05</th>\n",
              "      <th>b0k06</th>\n",
              "      <th>b0k07</th>\n",
              "      <th>b0k08</th>\n",
              "      <th>b0k09</th>\n",
              "      <th>b0k10</th>\n",
              "      <th>tauk01</th>\n",
              "      <th>tauk02</th>\n",
              "      <th>tauk03</th>\n",
              "      <th>tauk04</th>\n",
              "      <th>tauk05</th>\n",
              "      <th>tauk06</th>\n",
              "      <th>tauk07</th>\n",
              "      <th>tauk08</th>\n",
              "      <th>tauk09</th>\n",
              "      <th>tauk10</th>\n",
              "    </tr>\n",
              "    <tr>\n",
              "      <th>Date</th>\n",
              "      <th></th>\n",
              "      <th></th>\n",
              "      <th></th>\n",
              "      <th></th>\n",
              "      <th></th>\n",
              "      <th></th>\n",
              "      <th></th>\n",
              "      <th></th>\n",
              "      <th></th>\n",
              "      <th></th>\n",
              "      <th></th>\n",
              "      <th></th>\n",
              "      <th></th>\n",
              "      <th></th>\n",
              "      <th></th>\n",
              "      <th></th>\n",
              "      <th></th>\n",
              "      <th></th>\n",
              "      <th></th>\n",
              "      <th></th>\n",
              "      <th></th>\n",
              "      <th></th>\n",
              "      <th></th>\n",
              "      <th></th>\n",
              "      <th></th>\n",
              "      <th></th>\n",
              "      <th></th>\n",
              "      <th></th>\n",
              "      <th></th>\n",
              "      <th></th>\n",
              "      <th></th>\n",
              "      <th></th>\n",
              "      <th></th>\n",
              "      <th></th>\n",
              "      <th></th>\n",
              "      <th></th>\n",
              "      <th></th>\n",
              "      <th></th>\n",
              "      <th></th>\n",
              "      <th></th>\n",
              "    </tr>\n",
              "  </thead>\n",
              "  <tbody>\n",
              "    <tr>\n",
              "      <th>2009-03-23</th>\n",
              "      <td>-2.727038</td>\n",
              "      <td>-3.703672</td>\n",
              "      <td>-3.933671</td>\n",
              "      <td>-4.360880</td>\n",
              "      <td>-3.669309</td>\n",
              "      <td>-3.317302</td>\n",
              "      <td>-3.789300</td>\n",
              "      <td>-2.920232</td>\n",
              "      <td>-2.455292</td>\n",
              "      <td>-2.013126</td>\n",
              "      <td>0.001550</td>\n",
              "      <td>0.001828</td>\n",
              "      <td>0.002574</td>\n",
              "      <td>0.002469</td>\n",
              "      <td>0.001936</td>\n",
              "      <td>0.001605</td>\n",
              "      <td>0.001868</td>\n",
              "      <td>0.001748</td>\n",
              "      <td>0.001631</td>\n",
              "      <td>0.001319</td>\n",
              "      <td>2.984912</td>\n",
              "      <td>3.313493</td>\n",
              "      <td>4.407811</td>\n",
              "      <td>4.251816</td>\n",
              "      <td>3.896841</td>\n",
              "      <td>3.441775</td>\n",
              "      <td>3.772554</td>\n",
              "      <td>3.582601</td>\n",
              "      <td>3.674260</td>\n",
              "      <td>3.246674</td>\n",
              "      <td>1461.122</td>\n",
              "      <td>1499.507</td>\n",
              "      <td>1292.837</td>\n",
              "      <td>1329.968</td>\n",
              "      <td>1547.975</td>\n",
              "      <td>1681.609</td>\n",
              "      <td>1597.517</td>\n",
              "      <td>1526.722</td>\n",
              "      <td>1628.337</td>\n",
              "      <td>1772.121</td>\n",
              "    </tr>\n",
              "    <tr>\n",
              "      <th>2009-03-24</th>\n",
              "      <td>-3.122411</td>\n",
              "      <td>-3.348649</td>\n",
              "      <td>-2.933583</td>\n",
              "      <td>-2.821247</td>\n",
              "      <td>-3.108235</td>\n",
              "      <td>-2.540054</td>\n",
              "      <td>-2.970022</td>\n",
              "      <td>-2.841218</td>\n",
              "      <td>-2.774238</td>\n",
              "      <td>-3.082254</td>\n",
              "      <td>0.001416</td>\n",
              "      <td>0.001648</td>\n",
              "      <td>0.001455</td>\n",
              "      <td>0.001291</td>\n",
              "      <td>0.001519</td>\n",
              "      <td>0.001233</td>\n",
              "      <td>0.001463</td>\n",
              "      <td>0.001439</td>\n",
              "      <td>0.001329</td>\n",
              "      <td>0.001453</td>\n",
              "      <td>3.726610</td>\n",
              "      <td>3.733350</td>\n",
              "      <td>3.459047</td>\n",
              "      <td>3.197817</td>\n",
              "      <td>3.748140</td>\n",
              "      <td>3.000958</td>\n",
              "      <td>3.505756</td>\n",
              "      <td>3.389110</td>\n",
              "      <td>3.433971</td>\n",
              "      <td>3.807786</td>\n",
              "      <td>2029.949</td>\n",
              "      <td>1743.483</td>\n",
              "      <td>1813.185</td>\n",
              "      <td>1923.603</td>\n",
              "      <td>1887.045</td>\n",
              "      <td>1857.774</td>\n",
              "      <td>1832.649</td>\n",
              "      <td>1788.894</td>\n",
              "      <td>1965.954</td>\n",
              "      <td>2001.118</td>\n",
              "    </tr>\n",
              "    <tr>\n",
              "      <th>2009-03-25</th>\n",
              "      <td>-3.880331</td>\n",
              "      <td>-4.056443</td>\n",
              "      <td>-3.193778</td>\n",
              "      <td>-3.189689</td>\n",
              "      <td>-2.891290</td>\n",
              "      <td>-2.845863</td>\n",
              "      <td>-3.229054</td>\n",
              "      <td>-2.707997</td>\n",
              "      <td>-2.366482</td>\n",
              "      <td>-2.419309</td>\n",
              "      <td>0.001894</td>\n",
              "      <td>0.002004</td>\n",
              "      <td>0.001549</td>\n",
              "      <td>0.001557</td>\n",
              "      <td>0.001381</td>\n",
              "      <td>0.001586</td>\n",
              "      <td>0.001585</td>\n",
              "      <td>0.001478</td>\n",
              "      <td>0.001334</td>\n",
              "      <td>0.001385</td>\n",
              "      <td>4.632692</td>\n",
              "      <td>4.571159</td>\n",
              "      <td>3.624464</td>\n",
              "      <td>3.840120</td>\n",
              "      <td>3.534951</td>\n",
              "      <td>3.847850</td>\n",
              "      <td>3.906032</td>\n",
              "      <td>3.480426</td>\n",
              "      <td>3.133456</td>\n",
              "      <td>3.330892</td>\n",
              "      <td>1886.318</td>\n",
              "      <td>1752.629</td>\n",
              "      <td>1803.177</td>\n",
              "      <td>1882.571</td>\n",
              "      <td>1949.354</td>\n",
              "      <td>1796.506</td>\n",
              "      <td>1879.283</td>\n",
              "      <td>1756.918</td>\n",
              "      <td>1745.643</td>\n",
              "      <td>1774.590</td>\n",
              "    </tr>\n",
              "  </tbody>\n",
              "</table>\n",
              "</div>"
            ],
            "text/plain": [
              "               a0k01     a0k02     a0k03  ...    tauk08    tauk09    tauk10\n",
              "Date                                      ...                              \n",
              "2009-03-23 -2.727038 -3.703672 -3.933671  ...  1526.722  1628.337  1772.121\n",
              "2009-03-24 -3.122411 -3.348649 -2.933583  ...  1788.894  1965.954  2001.118\n",
              "2009-03-25 -3.880331 -4.056443 -3.193778  ...  1756.918  1745.643  1774.590\n",
              "\n",
              "[3 rows x 40 columns]"
            ]
          },
          "metadata": {
            "tags": []
          },
          "execution_count": 132
        }
      ]
    },
    {
      "cell_type": "code",
      "metadata": {
        "colab": {
          "base_uri": "https://localhost:8080/"
        },
        "id": "2tj03fk64vao",
        "outputId": "4a2c6666-c384-4a4b-e638-6ff3a30a5f36"
      },
      "source": [
        "# np.argwhere(arr == 0)\n",
        "zero_arr = np.argwhere(df_features.values == 0)\n",
        "zero_arr.shape  # 248 = 62*4"
      ],
      "execution_count": 133,
      "outputs": [
        {
          "output_type": "execute_result",
          "data": {
            "text/plain": [
              "(248, 2)"
            ]
          },
          "metadata": {
            "tags": []
          },
          "execution_count": 133
        }
      ]
    },
    {
      "cell_type": "code",
      "metadata": {
        "colab": {
          "base_uri": "https://localhost:8080/"
        },
        "id": "qen8hqv06zLF",
        "outputId": "54db0a70-bc3d-4c46-b26e-3792a6dd8d9d"
      },
      "source": [
        "list(zero_arr[:5])"
      ],
      "execution_count": 134,
      "outputs": [
        {
          "output_type": "execute_result",
          "data": {
            "text/plain": [
              "[array([52,  6]),\n",
              " array([52,  9]),\n",
              " array([52, 16]),\n",
              " array([52, 19]),\n",
              " array([52, 26])]"
            ]
          },
          "metadata": {
            "tags": []
          },
          "execution_count": 134
        }
      ]
    },
    {
      "cell_type": "code",
      "metadata": {
        "colab": {
          "base_uri": "https://localhost:8080/"
        },
        "id": "RYfPb4xW7Mkr",
        "outputId": "a514dc97-d2cd-4b93-95d3-b0d3ba5ec5bc"
      },
      "source": [
        "df_features.iloc[52,19]"
      ],
      "execution_count": 140,
      "outputs": [
        {
          "output_type": "execute_result",
          "data": {
            "text/plain": [
              "0.0"
            ]
          },
          "metadata": {
            "tags": []
          },
          "execution_count": 140
        }
      ]
    },
    {
      "cell_type": "markdown",
      "metadata": {
        "id": "7WX-Zz59rtL4"
      },
      "source": [
        "##targets\n",
        "- 'C1O1',\t'C2O1',\t'O2C1',\t'C2C1',\t'C2O2'"
      ]
    },
    {
      "cell_type": "code",
      "metadata": {
        "id": "0rWJLK6a7uog",
        "colab": {
          "base_uri": "https://localhost:8080/"
        },
        "outputId": "c78ac2ce-5611-43dc-9dc5-2654a5f36276"
      },
      "source": [
        "# target_columns = ['C1O1','C2O1','O2C1','C2C1','C2O2']\n",
        "df_kia3['C1O1'].value_counts()"
      ],
      "execution_count": 144,
      "outputs": [
        {
          "output_type": "execute_result",
          "data": {
            "text/plain": [
              "0    1243\n",
              "1    1033\n",
              "Name: C1O1, dtype: int64"
            ]
          },
          "metadata": {
            "tags": []
          },
          "execution_count": 144
        }
      ]
    },
    {
      "cell_type": "code",
      "metadata": {
        "colab": {
          "base_uri": "https://localhost:8080/"
        },
        "id": "SIv9oKZQr4Zb",
        "outputId": "73beac83-8b22-4e1c-be96-c58793943d51"
      },
      "source": [
        "targets_count = []\n",
        "for target in target_columns:\n",
        "    cnt = list(df_kia3[target].value_counts())\n",
        "    targets_count.append(cnt)\n",
        "\n",
        "targets_count"
      ],
      "execution_count": 151,
      "outputs": [
        {
          "output_type": "execute_result",
          "data": {
            "text/plain": [
              "[[1243, 1033], [1181, 1095], [1140, 1136], [1182, 1094], [1244, 1032]]"
            ]
          },
          "metadata": {
            "tags": []
          },
          "execution_count": 151
        }
      ]
    },
    {
      "cell_type": "code",
      "metadata": {
        "colab": {
          "base_uri": "https://localhost:8080/",
          "height": 283
        },
        "id": "z6M_yTDW--C-",
        "outputId": "8d57e3d2-15dc-4254-eb64-60b9390635ef"
      },
      "source": [
        "index = np.arange(len(target_columns))\n",
        "df_target = pd.DataFrame(np.array(targets_count))\n",
        "df_target.plot.bar()\n",
        "plt.xticks(index,target_columns, rotation=0)\n",
        "plt.legend(['Down','Up'], bbox_to_anchor=(1., 1))"
      ],
      "execution_count": 166,
      "outputs": [
        {
          "output_type": "execute_result",
          "data": {
            "text/plain": [
              "<matplotlib.legend.Legend at 0x7f26c3a5b690>"
            ]
          },
          "metadata": {
            "tags": []
          },
          "execution_count": 166
        },
        {
          "output_type": "display_data",
          "data": {
            "image/png": "[encoded data removed]",
            "text/plain": [
              "<Figure size 432x288 with 1 Axes>"
            ]
          },
          "metadata": {
            "tags": [],
            "needs_background": "light"
          }
        }
      ]
    },
    {
      "cell_type": "markdown",
      "metadata": {
        "id": "oisAoWRPDuMz"
      },
      "source": [
        "### 머신러닝 목표\n",
        "- 하루의 동역학(40개의 특성)이 무엇을 예측할 수 있는가?\n",
        "    - 'C1O1', 'C2O1', 'O2C1', 'C2C1', 'C2O2'\n"
      ]
    },
    {
      "cell_type": "code",
      "metadata": {
        "id": "UTnPigHtAdiT"
      },
      "source": [
        ""
      ],
      "execution_count": null,
      "outputs": []
    }
  ]
}